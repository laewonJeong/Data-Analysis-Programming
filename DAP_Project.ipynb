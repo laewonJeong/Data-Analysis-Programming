{
  "nbformat": 4,
  "nbformat_minor": 0,
  "metadata": {
    "colab": {
      "name": "DAP Project.ipynb",
      "provenance": [],
      "collapsed_sections": [],
      "authorship_tag": "ABX9TyM1a+wobJGtvw703SlUt89q",
      "include_colab_link": true
    },
    "kernelspec": {
      "name": "python3",
      "display_name": "Python 3"
    },
    "language_info": {
      "name": "python"
    }
  },
  "cells": [
    {
      "cell_type": "markdown",
      "metadata": {
        "id": "view-in-github",
        "colab_type": "text"
      },
      "source": [
        "<a href=\"https://colab.research.google.com/github/laewonJeong/Data-Analysis-Programming/blob/main/DAP_Project.ipynb\" target=\"_parent\"><img src=\"https://colab.research.google.com/assets/colab-badge.svg\" alt=\"Open In Colab\"/></a>"
      ]
    },
    {
      "cell_type": "markdown",
      "metadata": {
        "id": "cZ6GZc7lvhOw"
      },
      "source": [
        "# **Import Libraires**"
      ]
    },
    {
      "cell_type": "code",
      "metadata": {
        "id": "TSWM1lQAvdyS"
      },
      "source": [
        "import pandas as pd\n",
        "import numpy as np\n",
        "import matplotlib.pyplot as plt\n",
        "import seaborn as sns\n",
        "%matplotlib inline"
      ],
      "execution_count": 378,
      "outputs": []
    },
    {
      "cell_type": "markdown",
      "metadata": {
        "id": "OdT9-k3kxWNu"
      },
      "source": [
        "# **Pokemon Data**"
      ]
    },
    {
      "cell_type": "code",
      "metadata": {
        "colab": {
          "base_uri": "https://localhost:8080/",
          "height": 348
        },
        "id": "5apBt9YbwAIB",
        "outputId": "8232ff0d-010b-486e-b6db-ef865e614342"
      },
      "source": [
        "df = pd.read_csv('All_Pokemon.csv')\n",
        "df.head()"
      ],
      "execution_count": 379,
      "outputs": [
        {
          "output_type": "execute_result",
          "data": {
            "text/html": [
              "<div>\n",
              "<style scoped>\n",
              "    .dataframe tbody tr th:only-of-type {\n",
              "        vertical-align: middle;\n",
              "    }\n",
              "\n",
              "    .dataframe tbody tr th {\n",
              "        vertical-align: top;\n",
              "    }\n",
              "\n",
              "    .dataframe thead th {\n",
              "        text-align: right;\n",
              "    }\n",
              "</style>\n",
              "<table border=\"1\" class=\"dataframe\">\n",
              "  <thead>\n",
              "    <tr style=\"text-align: right;\">\n",
              "      <th></th>\n",
              "      <th>Number</th>\n",
              "      <th>Name</th>\n",
              "      <th>Type 1</th>\n",
              "      <th>Type 2</th>\n",
              "      <th>Abilities</th>\n",
              "      <th>HP</th>\n",
              "      <th>Att</th>\n",
              "      <th>Def</th>\n",
              "      <th>Spa</th>\n",
              "      <th>Spd</th>\n",
              "      <th>Spe</th>\n",
              "      <th>BST</th>\n",
              "      <th>Mean</th>\n",
              "      <th>Standard Deviation</th>\n",
              "      <th>Generation</th>\n",
              "      <th>Experience type</th>\n",
              "      <th>Experience to level 100</th>\n",
              "      <th>Final Evolution</th>\n",
              "      <th>Catch Rate</th>\n",
              "      <th>Legendary</th>\n",
              "      <th>Mega Evolution</th>\n",
              "      <th>Alolan Form</th>\n",
              "      <th>Galarian Form</th>\n",
              "      <th>Against Normal</th>\n",
              "      <th>Against Fire</th>\n",
              "      <th>Against Water</th>\n",
              "      <th>Against Electric</th>\n",
              "      <th>Against Grass</th>\n",
              "      <th>Against Ice</th>\n",
              "      <th>Against Fighting</th>\n",
              "      <th>Against Poison</th>\n",
              "      <th>Against Ground</th>\n",
              "      <th>Against Flying</th>\n",
              "      <th>Against Psychic</th>\n",
              "      <th>Against Bug</th>\n",
              "      <th>Against Rock</th>\n",
              "      <th>Against Ghost</th>\n",
              "      <th>Against Dragon</th>\n",
              "      <th>Against Dark</th>\n",
              "      <th>Against Steel</th>\n",
              "      <th>Against Fairy</th>\n",
              "      <th>Height</th>\n",
              "      <th>Weight</th>\n",
              "      <th>BMI</th>\n",
              "    </tr>\n",
              "  </thead>\n",
              "  <tbody>\n",
              "    <tr>\n",
              "      <th>0</th>\n",
              "      <td>1</td>\n",
              "      <td>Bulbasaur</td>\n",
              "      <td>Grass</td>\n",
              "      <td>Poison</td>\n",
              "      <td>['Chlorophyll', 'Overgrow']</td>\n",
              "      <td>45</td>\n",
              "      <td>49</td>\n",
              "      <td>49</td>\n",
              "      <td>65</td>\n",
              "      <td>65</td>\n",
              "      <td>45</td>\n",
              "      <td>318</td>\n",
              "      <td>53.000000</td>\n",
              "      <td>8.640988</td>\n",
              "      <td>1.0</td>\n",
              "      <td>Medium Slow</td>\n",
              "      <td>1059860</td>\n",
              "      <td>0.0</td>\n",
              "      <td>45</td>\n",
              "      <td>0.0</td>\n",
              "      <td>0.0</td>\n",
              "      <td>0.0</td>\n",
              "      <td>0.0</td>\n",
              "      <td>1.0</td>\n",
              "      <td>2.0</td>\n",
              "      <td>0.5</td>\n",
              "      <td>0.5</td>\n",
              "      <td>0.25</td>\n",
              "      <td>2.0</td>\n",
              "      <td>0.5</td>\n",
              "      <td>1.0</td>\n",
              "      <td>1.0</td>\n",
              "      <td>2.0</td>\n",
              "      <td>2.0</td>\n",
              "      <td>1.0</td>\n",
              "      <td>1.0</td>\n",
              "      <td>1.0</td>\n",
              "      <td>1.0</td>\n",
              "      <td>1.0</td>\n",
              "      <td>1.0</td>\n",
              "      <td>0.5</td>\n",
              "      <td>0.7</td>\n",
              "      <td>6.9</td>\n",
              "      <td>14.1</td>\n",
              "    </tr>\n",
              "    <tr>\n",
              "      <th>1</th>\n",
              "      <td>2</td>\n",
              "      <td>Ivysaur</td>\n",
              "      <td>Grass</td>\n",
              "      <td>Poison</td>\n",
              "      <td>['Chlorophyll', 'Overgrow']</td>\n",
              "      <td>60</td>\n",
              "      <td>62</td>\n",
              "      <td>63</td>\n",
              "      <td>80</td>\n",
              "      <td>80</td>\n",
              "      <td>60</td>\n",
              "      <td>405</td>\n",
              "      <td>67.500000</td>\n",
              "      <td>8.902247</td>\n",
              "      <td>1.0</td>\n",
              "      <td>Medium Slow</td>\n",
              "      <td>1059860</td>\n",
              "      <td>0.0</td>\n",
              "      <td>45</td>\n",
              "      <td>0.0</td>\n",
              "      <td>0.0</td>\n",
              "      <td>0.0</td>\n",
              "      <td>0.0</td>\n",
              "      <td>1.0</td>\n",
              "      <td>2.0</td>\n",
              "      <td>0.5</td>\n",
              "      <td>0.5</td>\n",
              "      <td>0.25</td>\n",
              "      <td>2.0</td>\n",
              "      <td>0.5</td>\n",
              "      <td>1.0</td>\n",
              "      <td>1.0</td>\n",
              "      <td>2.0</td>\n",
              "      <td>2.0</td>\n",
              "      <td>1.0</td>\n",
              "      <td>1.0</td>\n",
              "      <td>1.0</td>\n",
              "      <td>1.0</td>\n",
              "      <td>1.0</td>\n",
              "      <td>1.0</td>\n",
              "      <td>0.5</td>\n",
              "      <td>1.0</td>\n",
              "      <td>13.0</td>\n",
              "      <td>13.0</td>\n",
              "    </tr>\n",
              "    <tr>\n",
              "      <th>2</th>\n",
              "      <td>3</td>\n",
              "      <td>Venusaur</td>\n",
              "      <td>Grass</td>\n",
              "      <td>Poison</td>\n",
              "      <td>['Chlorophyll', 'Overgrow']</td>\n",
              "      <td>80</td>\n",
              "      <td>82</td>\n",
              "      <td>83</td>\n",
              "      <td>100</td>\n",
              "      <td>100</td>\n",
              "      <td>80</td>\n",
              "      <td>525</td>\n",
              "      <td>87.500000</td>\n",
              "      <td>8.902247</td>\n",
              "      <td>1.0</td>\n",
              "      <td>Medium Slow</td>\n",
              "      <td>1059860</td>\n",
              "      <td>1.0</td>\n",
              "      <td>45</td>\n",
              "      <td>0.0</td>\n",
              "      <td>0.0</td>\n",
              "      <td>0.0</td>\n",
              "      <td>0.0</td>\n",
              "      <td>1.0</td>\n",
              "      <td>2.0</td>\n",
              "      <td>0.5</td>\n",
              "      <td>0.5</td>\n",
              "      <td>0.25</td>\n",
              "      <td>2.0</td>\n",
              "      <td>0.5</td>\n",
              "      <td>1.0</td>\n",
              "      <td>1.0</td>\n",
              "      <td>2.0</td>\n",
              "      <td>2.0</td>\n",
              "      <td>1.0</td>\n",
              "      <td>1.0</td>\n",
              "      <td>1.0</td>\n",
              "      <td>1.0</td>\n",
              "      <td>1.0</td>\n",
              "      <td>1.0</td>\n",
              "      <td>0.5</td>\n",
              "      <td>2.0</td>\n",
              "      <td>100.0</td>\n",
              "      <td>25.0</td>\n",
              "    </tr>\n",
              "    <tr>\n",
              "      <th>3</th>\n",
              "      <td>3</td>\n",
              "      <td>Mega Venusaur</td>\n",
              "      <td>Grass</td>\n",
              "      <td>Poison</td>\n",
              "      <td>['Thick Fat']</td>\n",
              "      <td>80</td>\n",
              "      <td>100</td>\n",
              "      <td>123</td>\n",
              "      <td>122</td>\n",
              "      <td>120</td>\n",
              "      <td>80</td>\n",
              "      <td>625</td>\n",
              "      <td>104.166667</td>\n",
              "      <td>18.747592</td>\n",
              "      <td>6.0</td>\n",
              "      <td>Medium Slow</td>\n",
              "      <td>1059860</td>\n",
              "      <td>1.0</td>\n",
              "      <td>45</td>\n",
              "      <td>0.0</td>\n",
              "      <td>1.0</td>\n",
              "      <td>0.0</td>\n",
              "      <td>0.0</td>\n",
              "      <td>1.0</td>\n",
              "      <td>2.0</td>\n",
              "      <td>0.5</td>\n",
              "      <td>0.5</td>\n",
              "      <td>0.25</td>\n",
              "      <td>2.0</td>\n",
              "      <td>0.5</td>\n",
              "      <td>1.0</td>\n",
              "      <td>1.0</td>\n",
              "      <td>2.0</td>\n",
              "      <td>2.0</td>\n",
              "      <td>1.0</td>\n",
              "      <td>1.0</td>\n",
              "      <td>1.0</td>\n",
              "      <td>1.0</td>\n",
              "      <td>1.0</td>\n",
              "      <td>1.0</td>\n",
              "      <td>0.5</td>\n",
              "      <td>2.4</td>\n",
              "      <td>155.5</td>\n",
              "      <td>27.0</td>\n",
              "    </tr>\n",
              "    <tr>\n",
              "      <th>4</th>\n",
              "      <td>4</td>\n",
              "      <td>Charmander</td>\n",
              "      <td>Fire</td>\n",
              "      <td>NaN</td>\n",
              "      <td>['Blaze', 'Solar Power']</td>\n",
              "      <td>39</td>\n",
              "      <td>52</td>\n",
              "      <td>43</td>\n",
              "      <td>60</td>\n",
              "      <td>50</td>\n",
              "      <td>65</td>\n",
              "      <td>309</td>\n",
              "      <td>51.500000</td>\n",
              "      <td>8.995369</td>\n",
              "      <td>1.0</td>\n",
              "      <td>Medium Slow</td>\n",
              "      <td>1059860</td>\n",
              "      <td>0.0</td>\n",
              "      <td>45</td>\n",
              "      <td>0.0</td>\n",
              "      <td>0.0</td>\n",
              "      <td>0.0</td>\n",
              "      <td>0.0</td>\n",
              "      <td>1.0</td>\n",
              "      <td>0.5</td>\n",
              "      <td>2.0</td>\n",
              "      <td>1.0</td>\n",
              "      <td>0.50</td>\n",
              "      <td>0.5</td>\n",
              "      <td>1.0</td>\n",
              "      <td>1.0</td>\n",
              "      <td>2.0</td>\n",
              "      <td>1.0</td>\n",
              "      <td>1.0</td>\n",
              "      <td>0.5</td>\n",
              "      <td>2.0</td>\n",
              "      <td>1.0</td>\n",
              "      <td>1.0</td>\n",
              "      <td>1.0</td>\n",
              "      <td>0.5</td>\n",
              "      <td>0.5</td>\n",
              "      <td>0.6</td>\n",
              "      <td>8.5</td>\n",
              "      <td>23.6</td>\n",
              "    </tr>\n",
              "  </tbody>\n",
              "</table>\n",
              "</div>"
            ],
            "text/plain": [
              "   Number           Name Type 1  Type 2  ... Against Fairy  Height  Weight   BMI\n",
              "0       1      Bulbasaur  Grass  Poison  ...           0.5     0.7     6.9  14.1\n",
              "1       2        Ivysaur  Grass  Poison  ...           0.5     1.0    13.0  13.0\n",
              "2       3       Venusaur  Grass  Poison  ...           0.5     2.0   100.0  25.0\n",
              "3       3  Mega Venusaur  Grass  Poison  ...           0.5     2.4   155.5  27.0\n",
              "4       4     Charmander   Fire     NaN  ...           0.5     0.6     8.5  23.6\n",
              "\n",
              "[5 rows x 44 columns]"
            ]
          },
          "metadata": {},
          "execution_count": 379
        }
      ]
    },
    {
      "cell_type": "code",
      "metadata": {
        "colab": {
          "base_uri": "https://localhost:8080/",
          "height": 355
        },
        "id": "Zy6Sa5tNF1jz",
        "outputId": "b6d6456f-9e43-41aa-98be-3b089992e5d0"
      },
      "source": [
        "df.describe()"
      ],
      "execution_count": 380,
      "outputs": [
        {
          "output_type": "execute_result",
          "data": {
            "text/html": [
              "<div>\n",
              "<style scoped>\n",
              "    .dataframe tbody tr th:only-of-type {\n",
              "        vertical-align: middle;\n",
              "    }\n",
              "\n",
              "    .dataframe tbody tr th {\n",
              "        vertical-align: top;\n",
              "    }\n",
              "\n",
              "    .dataframe thead th {\n",
              "        text-align: right;\n",
              "    }\n",
              "</style>\n",
              "<table border=\"1\" class=\"dataframe\">\n",
              "  <thead>\n",
              "    <tr style=\"text-align: right;\">\n",
              "      <th></th>\n",
              "      <th>Number</th>\n",
              "      <th>HP</th>\n",
              "      <th>Att</th>\n",
              "      <th>Def</th>\n",
              "      <th>Spa</th>\n",
              "      <th>Spd</th>\n",
              "      <th>Spe</th>\n",
              "      <th>BST</th>\n",
              "      <th>Mean</th>\n",
              "      <th>Standard Deviation</th>\n",
              "      <th>Generation</th>\n",
              "      <th>Experience to level 100</th>\n",
              "      <th>Final Evolution</th>\n",
              "      <th>Catch Rate</th>\n",
              "      <th>Legendary</th>\n",
              "      <th>Mega Evolution</th>\n",
              "      <th>Alolan Form</th>\n",
              "      <th>Galarian Form</th>\n",
              "      <th>Against Normal</th>\n",
              "      <th>Against Fire</th>\n",
              "      <th>Against Water</th>\n",
              "      <th>Against Electric</th>\n",
              "      <th>Against Grass</th>\n",
              "      <th>Against Ice</th>\n",
              "      <th>Against Fighting</th>\n",
              "      <th>Against Poison</th>\n",
              "      <th>Against Ground</th>\n",
              "      <th>Against Flying</th>\n",
              "      <th>Against Psychic</th>\n",
              "      <th>Against Bug</th>\n",
              "      <th>Against Rock</th>\n",
              "      <th>Against Ghost</th>\n",
              "      <th>Against Dragon</th>\n",
              "      <th>Against Dark</th>\n",
              "      <th>Against Steel</th>\n",
              "      <th>Against Fairy</th>\n",
              "      <th>Height</th>\n",
              "      <th>Weight</th>\n",
              "      <th>BMI</th>\n",
              "    </tr>\n",
              "  </thead>\n",
              "  <tbody>\n",
              "    <tr>\n",
              "      <th>count</th>\n",
              "      <td>1032.000000</td>\n",
              "      <td>1032.000000</td>\n",
              "      <td>1032.000000</td>\n",
              "      <td>1032.000000</td>\n",
              "      <td>1032.000000</td>\n",
              "      <td>1032.000000</td>\n",
              "      <td>1032.000000</td>\n",
              "      <td>1032.000000</td>\n",
              "      <td>1032.000000</td>\n",
              "      <td>1032.000000</td>\n",
              "      <td>1032.000000</td>\n",
              "      <td>1.032000e+03</td>\n",
              "      <td>1032.000000</td>\n",
              "      <td>1032.000000</td>\n",
              "      <td>1032.000000</td>\n",
              "      <td>1032.000000</td>\n",
              "      <td>1032.000000</td>\n",
              "      <td>1032.000000</td>\n",
              "      <td>1032.000000</td>\n",
              "      <td>1032.000000</td>\n",
              "      <td>1032.000000</td>\n",
              "      <td>1032.000000</td>\n",
              "      <td>1032.000000</td>\n",
              "      <td>1032.000000</td>\n",
              "      <td>1032.000000</td>\n",
              "      <td>1032.000000</td>\n",
              "      <td>1032.000000</td>\n",
              "      <td>1032.000000</td>\n",
              "      <td>1032.000000</td>\n",
              "      <td>1032.000000</td>\n",
              "      <td>1032.000000</td>\n",
              "      <td>1032.000000</td>\n",
              "      <td>1032.000000</td>\n",
              "      <td>1032.000000</td>\n",
              "      <td>1032.000000</td>\n",
              "      <td>1032.000000</td>\n",
              "      <td>1032.000000</td>\n",
              "      <td>1032.000000</td>\n",
              "      <td>1032.000000</td>\n",
              "    </tr>\n",
              "    <tr>\n",
              "      <th>mean</th>\n",
              "      <td>439.226744</td>\n",
              "      <td>69.906008</td>\n",
              "      <td>80.526163</td>\n",
              "      <td>74.609496</td>\n",
              "      <td>72.918605</td>\n",
              "      <td>72.139535</td>\n",
              "      <td>68.548450</td>\n",
              "      <td>438.648256</td>\n",
              "      <td>73.108043</td>\n",
              "      <td>20.028104</td>\n",
              "      <td>4.432171</td>\n",
              "      <td>1.061362e+06</td>\n",
              "      <td>0.564922</td>\n",
              "      <td>93.879845</td>\n",
              "      <td>0.121124</td>\n",
              "      <td>0.048450</td>\n",
              "      <td>0.017442</td>\n",
              "      <td>0.019380</td>\n",
              "      <td>0.867490</td>\n",
              "      <td>1.147045</td>\n",
              "      <td>1.061289</td>\n",
              "      <td>1.045785</td>\n",
              "      <td>1.005814</td>\n",
              "      <td>1.210514</td>\n",
              "      <td>1.074612</td>\n",
              "      <td>0.956395</td>\n",
              "      <td>1.128391</td>\n",
              "      <td>1.171996</td>\n",
              "      <td>0.975533</td>\n",
              "      <td>1.002180</td>\n",
              "      <td>1.239826</td>\n",
              "      <td>1.025678</td>\n",
              "      <td>0.974806</td>\n",
              "      <td>1.074855</td>\n",
              "      <td>0.992006</td>\n",
              "      <td>1.094234</td>\n",
              "      <td>1.286822</td>\n",
              "      <td>71.879845</td>\n",
              "      <td>136.735756</td>\n",
              "    </tr>\n",
              "    <tr>\n",
              "      <th>std</th>\n",
              "      <td>261.871350</td>\n",
              "      <td>26.189155</td>\n",
              "      <td>32.542374</td>\n",
              "      <td>30.905972</td>\n",
              "      <td>32.773495</td>\n",
              "      <td>27.625876</td>\n",
              "      <td>30.219526</td>\n",
              "      <td>120.675545</td>\n",
              "      <td>20.112591</td>\n",
              "      <td>10.830298</td>\n",
              "      <td>2.263713</td>\n",
              "      <td>1.570876e+05</td>\n",
              "      <td>0.496008</td>\n",
              "      <td>76.316071</td>\n",
              "      <td>0.326430</td>\n",
              "      <td>0.214818</td>\n",
              "      <td>0.130974</td>\n",
              "      <td>0.137923</td>\n",
              "      <td>0.288087</td>\n",
              "      <td>0.703754</td>\n",
              "      <td>0.607551</td>\n",
              "      <td>0.635515</td>\n",
              "      <td>0.748643</td>\n",
              "      <td>0.759727</td>\n",
              "      <td>0.758243</td>\n",
              "      <td>0.544938</td>\n",
              "      <td>0.762139</td>\n",
              "      <td>0.593650</td>\n",
              "      <td>0.500431</td>\n",
              "      <td>0.613111</td>\n",
              "      <td>0.699361</td>\n",
              "      <td>0.577269</td>\n",
              "      <td>0.378040</td>\n",
              "      <td>0.475292</td>\n",
              "      <td>0.511859</td>\n",
              "      <td>0.535159</td>\n",
              "      <td>1.391501</td>\n",
              "      <td>132.872741</td>\n",
              "      <td>3111.666658</td>\n",
              "    </tr>\n",
              "    <tr>\n",
              "      <th>min</th>\n",
              "      <td>1.000000</td>\n",
              "      <td>1.000000</td>\n",
              "      <td>5.000000</td>\n",
              "      <td>5.000000</td>\n",
              "      <td>10.000000</td>\n",
              "      <td>20.000000</td>\n",
              "      <td>5.000000</td>\n",
              "      <td>175.000000</td>\n",
              "      <td>29.166667</td>\n",
              "      <td>0.000000</td>\n",
              "      <td>1.000000</td>\n",
              "      <td>6.000000e+05</td>\n",
              "      <td>0.000000</td>\n",
              "      <td>3.000000</td>\n",
              "      <td>0.000000</td>\n",
              "      <td>0.000000</td>\n",
              "      <td>0.000000</td>\n",
              "      <td>0.000000</td>\n",
              "      <td>0.000000</td>\n",
              "      <td>0.250000</td>\n",
              "      <td>0.250000</td>\n",
              "      <td>0.000000</td>\n",
              "      <td>0.250000</td>\n",
              "      <td>0.250000</td>\n",
              "      <td>0.000000</td>\n",
              "      <td>0.000000</td>\n",
              "      <td>0.000000</td>\n",
              "      <td>0.250000</td>\n",
              "      <td>0.000000</td>\n",
              "      <td>0.250000</td>\n",
              "      <td>0.250000</td>\n",
              "      <td>0.000000</td>\n",
              "      <td>0.000000</td>\n",
              "      <td>0.250000</td>\n",
              "      <td>0.250000</td>\n",
              "      <td>0.250000</td>\n",
              "      <td>0.100000</td>\n",
              "      <td>0.100000</td>\n",
              "      <td>0.000000</td>\n",
              "    </tr>\n",
              "    <tr>\n",
              "      <th>25%</th>\n",
              "      <td>211.750000</td>\n",
              "      <td>50.000000</td>\n",
              "      <td>55.000000</td>\n",
              "      <td>50.000000</td>\n",
              "      <td>50.000000</td>\n",
              "      <td>50.000000</td>\n",
              "      <td>45.000000</td>\n",
              "      <td>330.000000</td>\n",
              "      <td>55.000000</td>\n",
              "      <td>12.801910</td>\n",
              "      <td>3.000000</td>\n",
              "      <td>1.000000e+06</td>\n",
              "      <td>0.000000</td>\n",
              "      <td>45.000000</td>\n",
              "      <td>0.000000</td>\n",
              "      <td>0.000000</td>\n",
              "      <td>0.000000</td>\n",
              "      <td>0.000000</td>\n",
              "      <td>1.000000</td>\n",
              "      <td>0.500000</td>\n",
              "      <td>0.500000</td>\n",
              "      <td>0.500000</td>\n",
              "      <td>0.500000</td>\n",
              "      <td>0.500000</td>\n",
              "      <td>0.500000</td>\n",
              "      <td>0.500000</td>\n",
              "      <td>1.000000</td>\n",
              "      <td>1.000000</td>\n",
              "      <td>1.000000</td>\n",
              "      <td>0.500000</td>\n",
              "      <td>1.000000</td>\n",
              "      <td>1.000000</td>\n",
              "      <td>1.000000</td>\n",
              "      <td>1.000000</td>\n",
              "      <td>0.500000</td>\n",
              "      <td>1.000000</td>\n",
              "      <td>0.600000</td>\n",
              "      <td>9.000000</td>\n",
              "      <td>18.600000</td>\n",
              "    </tr>\n",
              "    <tr>\n",
              "      <th>50%</th>\n",
              "      <td>434.500000</td>\n",
              "      <td>67.000000</td>\n",
              "      <td>78.000000</td>\n",
              "      <td>70.000000</td>\n",
              "      <td>65.000000</td>\n",
              "      <td>70.000000</td>\n",
              "      <td>65.000000</td>\n",
              "      <td>459.000000</td>\n",
              "      <td>76.500000</td>\n",
              "      <td>18.484228</td>\n",
              "      <td>5.000000</td>\n",
              "      <td>1.000000e+06</td>\n",
              "      <td>1.000000</td>\n",
              "      <td>60.000000</td>\n",
              "      <td>0.000000</td>\n",
              "      <td>0.000000</td>\n",
              "      <td>0.000000</td>\n",
              "      <td>0.000000</td>\n",
              "      <td>1.000000</td>\n",
              "      <td>1.000000</td>\n",
              "      <td>1.000000</td>\n",
              "      <td>1.000000</td>\n",
              "      <td>1.000000</td>\n",
              "      <td>1.000000</td>\n",
              "      <td>1.000000</td>\n",
              "      <td>1.000000</td>\n",
              "      <td>1.000000</td>\n",
              "      <td>1.000000</td>\n",
              "      <td>1.000000</td>\n",
              "      <td>1.000000</td>\n",
              "      <td>1.000000</td>\n",
              "      <td>1.000000</td>\n",
              "      <td>1.000000</td>\n",
              "      <td>1.000000</td>\n",
              "      <td>1.000000</td>\n",
              "      <td>1.000000</td>\n",
              "      <td>1.000000</td>\n",
              "      <td>29.750000</td>\n",
              "      <td>28.350000</td>\n",
              "    </tr>\n",
              "    <tr>\n",
              "      <th>75%</th>\n",
              "      <td>667.250000</td>\n",
              "      <td>83.000000</td>\n",
              "      <td>100.000000</td>\n",
              "      <td>90.000000</td>\n",
              "      <td>95.000000</td>\n",
              "      <td>90.000000</td>\n",
              "      <td>90.000000</td>\n",
              "      <td>515.000000</td>\n",
              "      <td>85.833333</td>\n",
              "      <td>24.835709</td>\n",
              "      <td>6.000000</td>\n",
              "      <td>1.250000e+06</td>\n",
              "      <td>1.000000</td>\n",
              "      <td>127.000000</td>\n",
              "      <td>0.000000</td>\n",
              "      <td>0.000000</td>\n",
              "      <td>0.000000</td>\n",
              "      <td>0.000000</td>\n",
              "      <td>1.000000</td>\n",
              "      <td>2.000000</td>\n",
              "      <td>1.000000</td>\n",
              "      <td>1.000000</td>\n",
              "      <td>1.000000</td>\n",
              "      <td>2.000000</td>\n",
              "      <td>2.000000</td>\n",
              "      <td>1.000000</td>\n",
              "      <td>2.000000</td>\n",
              "      <td>1.000000</td>\n",
              "      <td>1.000000</td>\n",
              "      <td>1.000000</td>\n",
              "      <td>2.000000</td>\n",
              "      <td>1.000000</td>\n",
              "      <td>1.000000</td>\n",
              "      <td>1.000000</td>\n",
              "      <td>1.000000</td>\n",
              "      <td>1.000000</td>\n",
              "      <td>1.600000</td>\n",
              "      <td>71.275000</td>\n",
              "      <td>42.200000</td>\n",
              "    </tr>\n",
              "    <tr>\n",
              "      <th>max</th>\n",
              "      <td>898.000000</td>\n",
              "      <td>255.000000</td>\n",
              "      <td>190.000000</td>\n",
              "      <td>230.000000</td>\n",
              "      <td>194.000000</td>\n",
              "      <td>230.000000</td>\n",
              "      <td>200.000000</td>\n",
              "      <td>780.000000</td>\n",
              "      <td>130.000000</td>\n",
              "      <td>103.215659</td>\n",
              "      <td>8.000000</td>\n",
              "      <td>1.640000e+06</td>\n",
              "      <td>1.000000</td>\n",
              "      <td>255.000000</td>\n",
              "      <td>1.000000</td>\n",
              "      <td>1.000000</td>\n",
              "      <td>1.000000</td>\n",
              "      <td>1.000000</td>\n",
              "      <td>1.000000</td>\n",
              "      <td>4.000000</td>\n",
              "      <td>4.000000</td>\n",
              "      <td>4.000000</td>\n",
              "      <td>4.000000</td>\n",
              "      <td>4.000000</td>\n",
              "      <td>4.000000</td>\n",
              "      <td>4.000000</td>\n",
              "      <td>4.000000</td>\n",
              "      <td>4.000000</td>\n",
              "      <td>4.000000</td>\n",
              "      <td>4.000000</td>\n",
              "      <td>4.000000</td>\n",
              "      <td>4.000000</td>\n",
              "      <td>2.000000</td>\n",
              "      <td>4.000000</td>\n",
              "      <td>4.000000</td>\n",
              "      <td>4.000000</td>\n",
              "      <td>20.000000</td>\n",
              "      <td>999.900000</td>\n",
              "      <td>99990.000000</td>\n",
              "    </tr>\n",
              "  </tbody>\n",
              "</table>\n",
              "</div>"
            ],
            "text/plain": [
              "            Number           HP  ...       Weight           BMI\n",
              "count  1032.000000  1032.000000  ...  1032.000000   1032.000000\n",
              "mean    439.226744    69.906008  ...    71.879845    136.735756\n",
              "std     261.871350    26.189155  ...   132.872741   3111.666658\n",
              "min       1.000000     1.000000  ...     0.100000      0.000000\n",
              "25%     211.750000    50.000000  ...     9.000000     18.600000\n",
              "50%     434.500000    67.000000  ...    29.750000     28.350000\n",
              "75%     667.250000    83.000000  ...    71.275000     42.200000\n",
              "max     898.000000   255.000000  ...   999.900000  99990.000000\n",
              "\n",
              "[8 rows x 39 columns]"
            ]
          },
          "metadata": {},
          "execution_count": 380
        }
      ]
    },
    {
      "cell_type": "markdown",
      "metadata": {
        "id": "_3FyAUlfyP_Z"
      },
      "source": [
        "# **Handling Missing Value**\n",
        "Type 2열의 Null값이 있는 것을 확인"
      ]
    },
    {
      "cell_type": "code",
      "metadata": {
        "colab": {
          "base_uri": "https://localhost:8080/"
        },
        "id": "vGWek6B6yIoc",
        "outputId": "438fed0f-c7f9-45eb-bc3f-c0ec0b941c7a"
      },
      "source": [
        "df.isnull().sum()"
      ],
      "execution_count": 381,
      "outputs": [
        {
          "output_type": "execute_result",
          "data": {
            "text/plain": [
              "Number                       0\n",
              "Name                         0\n",
              "Type 1                       0\n",
              "Type 2                     484\n",
              "Abilities                    0\n",
              "HP                           0\n",
              "Att                          0\n",
              "Def                          0\n",
              "Spa                          0\n",
              "Spd                          0\n",
              "Spe                          0\n",
              "BST                          0\n",
              "Mean                         0\n",
              "Standard Deviation           0\n",
              "Generation                   0\n",
              "Experience type              0\n",
              "Experience to level 100      0\n",
              "Final Evolution              0\n",
              "Catch Rate                   0\n",
              "Legendary                    0\n",
              "Mega Evolution               0\n",
              "Alolan Form                  0\n",
              "Galarian Form                0\n",
              "Against Normal               0\n",
              "Against Fire                 0\n",
              "Against Water                0\n",
              "Against Electric             0\n",
              "Against Grass                0\n",
              "Against Ice                  0\n",
              "Against Fighting             0\n",
              "Against Poison               0\n",
              "Against Ground               0\n",
              "Against Flying               0\n",
              "Against Psychic              0\n",
              "Against Bug                  0\n",
              "Against Rock                 0\n",
              "Against Ghost                0\n",
              "Against Dragon               0\n",
              "Against Dark                 0\n",
              "Against Steel                0\n",
              "Against Fairy                0\n",
              "Height                       0\n",
              "Weight                       0\n",
              "BMI                          0\n",
              "dtype: int64"
            ]
          },
          "metadata": {},
          "execution_count": 381
        }
      ]
    },
    {
      "cell_type": "code",
      "metadata": {
        "colab": {
          "base_uri": "https://localhost:8080/"
        },
        "id": "al9He2JkywB8",
        "outputId": "fd2c5779-ef8b-4946-a693-67b68e4a7d0d"
      },
      "source": [
        "df = df.drop(['Type 2'], axis = 'columns')\n",
        "df.isnull().sum()"
      ],
      "execution_count": 382,
      "outputs": [
        {
          "output_type": "execute_result",
          "data": {
            "text/plain": [
              "Number                     0\n",
              "Name                       0\n",
              "Type 1                     0\n",
              "Abilities                  0\n",
              "HP                         0\n",
              "Att                        0\n",
              "Def                        0\n",
              "Spa                        0\n",
              "Spd                        0\n",
              "Spe                        0\n",
              "BST                        0\n",
              "Mean                       0\n",
              "Standard Deviation         0\n",
              "Generation                 0\n",
              "Experience type            0\n",
              "Experience to level 100    0\n",
              "Final Evolution            0\n",
              "Catch Rate                 0\n",
              "Legendary                  0\n",
              "Mega Evolution             0\n",
              "Alolan Form                0\n",
              "Galarian Form              0\n",
              "Against Normal             0\n",
              "Against Fire               0\n",
              "Against Water              0\n",
              "Against Electric           0\n",
              "Against Grass              0\n",
              "Against Ice                0\n",
              "Against Fighting           0\n",
              "Against Poison             0\n",
              "Against Ground             0\n",
              "Against Flying             0\n",
              "Against Psychic            0\n",
              "Against Bug                0\n",
              "Against Rock               0\n",
              "Against Ghost              0\n",
              "Against Dragon             0\n",
              "Against Dark               0\n",
              "Against Steel              0\n",
              "Against Fairy              0\n",
              "Height                     0\n",
              "Weight                     0\n",
              "BMI                        0\n",
              "dtype: int64"
            ]
          },
          "metadata": {},
          "execution_count": 382
        }
      ]
    },
    {
      "cell_type": "markdown",
      "source": [
        "# **능력치 제외하고 쓸데 없는 columns 삭제**"
      ],
      "metadata": {
        "id": "bAqW3xJ-SM4A"
      }
    },
    {
      "cell_type": "code",
      "source": [
        "df= df.drop(['Experience to level 100', 'Abilities','Standard Deviation',      \n",
        "             'Final Evolution', 'Mega Evolution',\n",
        "             'Alolan Form', 'Galarian Form', 'Against Normal', 'Against Fire',\n",
        "             'Against Water', 'Against Electric', 'Against Grass', 'Against Ice',\n",
        "             'Against Fighting', 'Against Poison', 'Against Ground',\n",
        "             'Against Flying', 'Against Psychic', 'Against Bug', 'Against Rock',\n",
        "             'Against Ghost', 'Against Dragon', 'Against Dark', 'Against Steel',\n",
        "             'Against Fairy','BMI'],axis='columns')# 쓸데 없는 columns 삭제\n"
      ],
      "metadata": {
        "id": "lZ1B2E7kSMWx"
      },
      "execution_count": 384,
      "outputs": []
    },
    {
      "cell_type": "code",
      "source": [
        "df.head()"
      ],
      "metadata": {
        "colab": {
          "base_uri": "https://localhost:8080/",
          "height": 206
        },
        "id": "yvkFbdSCULuz",
        "outputId": "d5e383cf-cd08-40e0-a5f1-9a6b0fa46469"
      },
      "execution_count": 385,
      "outputs": [
        {
          "output_type": "execute_result",
          "data": {
            "text/html": [
              "<div>\n",
              "<style scoped>\n",
              "    .dataframe tbody tr th:only-of-type {\n",
              "        vertical-align: middle;\n",
              "    }\n",
              "\n",
              "    .dataframe tbody tr th {\n",
              "        vertical-align: top;\n",
              "    }\n",
              "\n",
              "    .dataframe thead th {\n",
              "        text-align: right;\n",
              "    }\n",
              "</style>\n",
              "<table border=\"1\" class=\"dataframe\">\n",
              "  <thead>\n",
              "    <tr style=\"text-align: right;\">\n",
              "      <th></th>\n",
              "      <th>Number</th>\n",
              "      <th>Name</th>\n",
              "      <th>Type 1</th>\n",
              "      <th>HP</th>\n",
              "      <th>Att</th>\n",
              "      <th>Def</th>\n",
              "      <th>Spa</th>\n",
              "      <th>Spd</th>\n",
              "      <th>Spe</th>\n",
              "      <th>BST</th>\n",
              "      <th>Mean</th>\n",
              "      <th>Generation</th>\n",
              "      <th>Experience type</th>\n",
              "      <th>Catch Rate</th>\n",
              "      <th>Legendary</th>\n",
              "      <th>Height</th>\n",
              "      <th>Weight</th>\n",
              "    </tr>\n",
              "  </thead>\n",
              "  <tbody>\n",
              "    <tr>\n",
              "      <th>0</th>\n",
              "      <td>1</td>\n",
              "      <td>Bulbasaur</td>\n",
              "      <td>Grass</td>\n",
              "      <td>45</td>\n",
              "      <td>49</td>\n",
              "      <td>49</td>\n",
              "      <td>65</td>\n",
              "      <td>65</td>\n",
              "      <td>45</td>\n",
              "      <td>318</td>\n",
              "      <td>53.000000</td>\n",
              "      <td>1.0</td>\n",
              "      <td>Medium Slow</td>\n",
              "      <td>45</td>\n",
              "      <td>0.0</td>\n",
              "      <td>0.7</td>\n",
              "      <td>6.9</td>\n",
              "    </tr>\n",
              "    <tr>\n",
              "      <th>1</th>\n",
              "      <td>2</td>\n",
              "      <td>Ivysaur</td>\n",
              "      <td>Grass</td>\n",
              "      <td>60</td>\n",
              "      <td>62</td>\n",
              "      <td>63</td>\n",
              "      <td>80</td>\n",
              "      <td>80</td>\n",
              "      <td>60</td>\n",
              "      <td>405</td>\n",
              "      <td>67.500000</td>\n",
              "      <td>1.0</td>\n",
              "      <td>Medium Slow</td>\n",
              "      <td>45</td>\n",
              "      <td>0.0</td>\n",
              "      <td>1.0</td>\n",
              "      <td>13.0</td>\n",
              "    </tr>\n",
              "    <tr>\n",
              "      <th>2</th>\n",
              "      <td>3</td>\n",
              "      <td>Venusaur</td>\n",
              "      <td>Grass</td>\n",
              "      <td>80</td>\n",
              "      <td>82</td>\n",
              "      <td>83</td>\n",
              "      <td>100</td>\n",
              "      <td>100</td>\n",
              "      <td>80</td>\n",
              "      <td>525</td>\n",
              "      <td>87.500000</td>\n",
              "      <td>1.0</td>\n",
              "      <td>Medium Slow</td>\n",
              "      <td>45</td>\n",
              "      <td>0.0</td>\n",
              "      <td>2.0</td>\n",
              "      <td>100.0</td>\n",
              "    </tr>\n",
              "    <tr>\n",
              "      <th>3</th>\n",
              "      <td>3</td>\n",
              "      <td>Mega Venusaur</td>\n",
              "      <td>Grass</td>\n",
              "      <td>80</td>\n",
              "      <td>100</td>\n",
              "      <td>123</td>\n",
              "      <td>122</td>\n",
              "      <td>120</td>\n",
              "      <td>80</td>\n",
              "      <td>625</td>\n",
              "      <td>104.166667</td>\n",
              "      <td>6.0</td>\n",
              "      <td>Medium Slow</td>\n",
              "      <td>45</td>\n",
              "      <td>0.0</td>\n",
              "      <td>2.4</td>\n",
              "      <td>155.5</td>\n",
              "    </tr>\n",
              "    <tr>\n",
              "      <th>4</th>\n",
              "      <td>4</td>\n",
              "      <td>Charmander</td>\n",
              "      <td>Fire</td>\n",
              "      <td>39</td>\n",
              "      <td>52</td>\n",
              "      <td>43</td>\n",
              "      <td>60</td>\n",
              "      <td>50</td>\n",
              "      <td>65</td>\n",
              "      <td>309</td>\n",
              "      <td>51.500000</td>\n",
              "      <td>1.0</td>\n",
              "      <td>Medium Slow</td>\n",
              "      <td>45</td>\n",
              "      <td>0.0</td>\n",
              "      <td>0.6</td>\n",
              "      <td>8.5</td>\n",
              "    </tr>\n",
              "  </tbody>\n",
              "</table>\n",
              "</div>"
            ],
            "text/plain": [
              "   Number           Name Type 1  HP  ...  Catch Rate  Legendary  Height  Weight\n",
              "0       1      Bulbasaur  Grass  45  ...          45        0.0     0.7     6.9\n",
              "1       2        Ivysaur  Grass  60  ...          45        0.0     1.0    13.0\n",
              "2       3       Venusaur  Grass  80  ...          45        0.0     2.0   100.0\n",
              "3       3  Mega Venusaur  Grass  80  ...          45        0.0     2.4   155.5\n",
              "4       4     Charmander   Fire  39  ...          45        0.0     0.6     8.5\n",
              "\n",
              "[5 rows x 17 columns]"
            ]
          },
          "metadata": {},
          "execution_count": 385
        }
      ]
    },
    {
      "cell_type": "markdown",
      "metadata": {
        "id": "CLFMq16rIwwQ"
      },
      "source": [
        "# **Visulization**"
      ]
    },
    {
      "cell_type": "markdown",
      "metadata": {
        "id": "xFtRaYzzeycn"
      },
      "source": [
        "Check Type"
      ]
    },
    {
      "cell_type": "code",
      "metadata": {
        "colab": {
          "base_uri": "https://localhost:8080/",
          "height": 357
        },
        "id": "AxjB-ggBcXnc",
        "outputId": "aadd55a4-c5c1-492a-9eb2-c73b339e7d29"
      },
      "source": [
        "df_type = df['Type 1'].value_counts()\n",
        "fig, ax = plt.subplots(figsize=(6,6))\n",
        "explode = (0.05,0.05,0.05,0.05,0.05,0.05,0.05,0.05,0.05,0.05,0.05,0.05,0.05,0.05,0.05,0.05,0.05,0.05)\n",
        "\n",
        "ax.pie(df_type.values, labels = df_type.index, autopct='%1.1f%%', pctdistance=0.85, explode = explode )\n",
        "\n",
        "#draw white circle in the middle\n",
        "centre_circle = plt.Circle((0,0), 0.70, fc='white')\n",
        "fig = plt.gcf()\n",
        "fig.gca().add_artist(centre_circle)\n",
        "\n",
        "plt.show()"
      ],
      "execution_count": 386,
      "outputs": [
        {
          "output_type": "display_data",
          "data": {
            "image/png": "[encoded data removed]",
            "text/plain": [
              "<Figure size 432x432 with 1 Axes>"
            ]
          },
          "metadata": {}
        }
      ]
    },
    {
      "cell_type": "code",
      "source": [
        "LType = df[df['Legendary']==1.0]['Type 1']\n",
        "LType = pd.DataFrame(LType)\n",
        "\n",
        "plt.figure(figsize = (10,5))\n",
        "sns.countplot(y = 'Type 1',data=LType)\n",
        "plt.title(\"Legendary Type\")\n",
        "plt.show()"
      ],
      "metadata": {
        "colab": {
          "base_uri": "https://localhost:8080/",
          "height": 350
        },
        "id": "HX-CqdhlesFV",
        "outputId": "5f1a9400-bfeb-4c8d-cfbf-88aac11a1775"
      },
      "execution_count": 387,
      "outputs": [
        {
          "output_type": "display_data",
          "data": {
            "image/png": "[encoded data removed]",
            "text/plain": [
              "<Figure size 720x360 with 1 Axes>"
            ]
          },
          "metadata": {
            "needs_background": "light"
          }
        }
      ]
    },
    {
      "cell_type": "code",
      "source": [
        "plt.figure(figsize = (15,10))\n",
        "sns.boxplot(data = df, x = 'Type 1', y = 'BST')\n",
        "plt.title(\"BST\")\n",
        "plt.show()"
      ],
      "metadata": {
        "colab": {
          "base_uri": "https://localhost:8080/",
          "height": 621
        },
        "id": "CCe18ZqKqQCO",
        "outputId": "7e433db0-4947-4cad-bd45-18afee9ccef8"
      },
      "execution_count": 388,
      "outputs": [
        {
          "output_type": "display_data",
          "data": {
            "image/png": "[encoded data removed]",
            "text/plain": [
              "<Figure size 1080x720 with 1 Axes>"
            ]
          },
          "metadata": {
            "needs_background": "light"
          }
        }
      ]
    },
    {
      "cell_type": "markdown",
      "metadata": {
        "id": "p9U4AOffe06L"
      },
      "source": [
        "Check Generation"
      ]
    },
    {
      "cell_type": "code",
      "metadata": {
        "colab": {
          "base_uri": "https://localhost:8080/",
          "height": 265
        },
        "id": "jeUIdzLhexaB",
        "outputId": "5e622bf7-b792-40ed-bb61-a086d8d202a7"
      },
      "source": [
        "# 몇세대 포켓몬이 제일 많은지 선그래프를 이용해 확인\n",
        "df_generation = df['Generation'].value_counts().sort_index()\n",
        "plt.plot(df_generation, marker ='o')\n",
        "plt.show()"
      ],
      "execution_count": 389,
      "outputs": [
        {
          "output_type": "display_data",
          "data": {
            "image/png": "[encoded data removed]",
            "text/plain": [
              "<Figure size 432x288 with 1 Axes>"
            ]
          },
          "metadata": {
            "needs_background": "light"
          }
        }
      ]
    },
    {
      "cell_type": "code",
      "source": [
        "# 전설의 포켓몬은 몇세대가 많은지 선그래프를 이용해 확인\n",
        "df_legendary = df[df['Legendary']==1]\n",
        "df_Lgeneration = df_legendary['Generation'].value_counts().sort_index()\n",
        "plt.plot(df_Lgeneration, marker = 'o', color='salmon')\n",
        "plt.show()"
      ],
      "metadata": {
        "colab": {
          "base_uri": "https://localhost:8080/",
          "height": 265
        },
        "id": "9PKGD6JCYUaf",
        "outputId": "929e502e-1e47-4f0f-cbba-3b8f277419be"
      },
      "execution_count": 390,
      "outputs": [
        {
          "output_type": "display_data",
          "data": {
            "image/png": "[encoded data removed]",
            "text/plain": [
              "<Figure size 432x288 with 1 Axes>"
            ]
          },
          "metadata": {
            "needs_background": "light"
          }
        }
      ]
    },
    {
      "cell_type": "markdown",
      "metadata": {
        "id": "7HBifyV9I4FY"
      },
      "source": [
        "Check Legendary"
      ]
    },
    {
      "cell_type": "code",
      "metadata": {
        "colab": {
          "base_uri": "https://localhost:8080/",
          "height": 285
        },
        "id": "mVVACbzAI0GC",
        "outputId": "d43c3ea4-da40-487b-f67d-3af30025f3f5"
      },
      "source": [
        "df_legendary = df['Legendary'].value_counts()\n",
        "df_legendary.plot.bar(xlabel=\"Legendary Pokemon\", ylabel = \"Count\")\n",
        "plt.text(0.95,80,df_legendary[1])\n",
        "plt.text(-0.05,860,df_legendary[0])\n",
        "plt.show()"
      ],
      "execution_count": 391,
      "outputs": [
        {
          "output_type": "display_data",
          "data": {
            "image/png": "[encoded data removed]",
            "text/plain": [
              "<Figure size 432x288 with 1 Axes>"
            ]
          },
          "metadata": {
            "needs_background": "light"
          }
        }
      ]
    },
    {
      "cell_type": "code",
      "source": [
        "# 능력치 분포 박스플롯으로 확인\n",
        "fig = plt.figure(figsize=(16, 8))\n",
        "\n",
        "plt.subplot(1,2,1)\n",
        "data2 = df[df['Legendary']==1.0]\n",
        "data2 = data2.drop(['Number','Name','Type 1','Mean','Generation','Experience type','Catch Rate', 'Legendary', 'Height', 'Weight', 'BST'], axis = 'columns')\n",
        "sns.boxplot(data = data2)\n",
        "\n",
        "plt.title('Legendary')\n",
        "\n",
        "plt.subplot(1,2,2)\n",
        "data3 = df[df['Legendary']==0.0]\n",
        "data3 = data3.drop(['Number','Name','Type 1','Mean','Generation','Experience type','Catch Rate', 'Legendary', 'Height', 'Weight', 'BST'], axis = 'columns')\n",
        "sns.boxplot(data = data3)\n",
        "\n",
        "plt.title('Not Legendary')\n",
        "\n",
        "plt.show()"
      ],
      "metadata": {
        "colab": {
          "base_uri": "https://localhost:8080/",
          "height": 499
        },
        "id": "0CMuAPULarZ5",
        "outputId": "4e9b98e1-c593-44fb-cecb-ea8fe029b4b5"
      },
      "execution_count": 393,
      "outputs": [
        {
          "output_type": "display_data",
          "data": {
            "image/png": "[encoded data removed]",
            "text/plain": [
              "<Figure size 1152x576 with 2 Axes>"
            ]
          },
          "metadata": {
            "needs_background": "light"
          }
        }
      ]
    },
    {
      "cell_type": "markdown",
      "source": [
        "능력치 총합 분포"
      ],
      "metadata": {
        "id": "mLwKeQWEogae"
      }
    },
    {
      "cell_type": "code",
      "source": [
        "fig = plt.figure(figsize = (15,10))\n",
        "df['BST'].hist(bins=50,histtype='bar', color = 'salmon', edgecolor='white')\n",
        "plt.title('BST hist')\n",
        "plt.show()"
      ],
      "metadata": {
        "colab": {
          "base_uri": "https://localhost:8080/",
          "height": 607
        },
        "id": "iTbzK7sYofgR",
        "outputId": "a012db38-eb61-401c-9e51-6c677ea82435"
      },
      "execution_count": 451,
      "outputs": [
        {
          "output_type": "display_data",
          "data": {
            "image/png": "[encoded data removed]",
            "text/plain": [
              "<Figure size 1080x720 with 1 Axes>"
            ]
          },
          "metadata": {
            "needs_background": "light"
          }
        }
      ]
    },
    {
      "cell_type": "markdown",
      "source": [
        "Experience Type Visualization"
      ],
      "metadata": {
        "id": "WEN7mkBZpV_e"
      }
    },
    {
      "cell_type": "code",
      "source": [
        "plt.figure(figsize = (20,3))\n",
        "plt.subplot(1,2,1)\n",
        "Total_EType = df['Experience type']\n",
        "Total_EType = pd.DataFrame(Total_EType)\n",
        "sns.countplot(y = 'Experience type',data=Total_EType)\n",
        "plt.title(\"Total Experience Type\")\n",
        "\n",
        "plt.subplot(1,2,2)\n",
        "L_EType = df[df['Legendary']==1.0]['Experience type']\n",
        "L_EType = pd.DataFrame(L_EType)\n",
        "sns.countplot(y = 'Experience type',data=L_EType)\n",
        "plt.title(\"Legendary Experience Type\")\n",
        "\n",
        "plt.show()"
      ],
      "metadata": {
        "colab": {
          "base_uri": "https://localhost:8080/",
          "height": 241
        },
        "id": "hjX74A25m_nb",
        "outputId": "c1f99b15-a749-40ef-ecc3-06a82200d1ba"
      },
      "execution_count": 400,
      "outputs": [
        {
          "output_type": "display_data",
          "data": {
            "image/png": "[encoded data removed]",
            "text/plain": [
              "<Figure size 1440x216 with 2 Axes>"
            ]
          },
          "metadata": {
            "needs_background": "light"
          }
        }
      ]
    },
    {
      "cell_type": "code",
      "metadata": {
        "colab": {
          "base_uri": "https://localhost:8080/",
          "height": 610
        },
        "id": "GB8zBfYcOkGm",
        "outputId": "0839da8d-36d5-4335-b263-32ac984cdd63"
      },
      "source": [
        "df_legendary = pd.DataFrame(df[df['Legendary']!=0])\n",
        "df_normal = pd.DataFrame(df[df['Legendary']==0])\n",
        "\n",
        "#전설의 포켓몬의 모든 값의 평균 구하기\n",
        "a = df_legendary.describe()\n",
        "a = pd.DataFrame(a)\n",
        "a = a.drop(['count', 'std', 'min', '25%', '50%', '75%', 'max'])# 평균값 빼고 다 제거\n",
        "a= a.drop(['Number', 'Generation', 'Legendary','BST' ],axis='columns')# 쓸데 없는 columns 삭제\n",
        "a = a.T\n",
        "\n",
        "#그냥 노말 포켓몬의 모든 값의 평균 구하기\n",
        "b = df_normal.describe()\n",
        "b = pd.DataFrame(b)\n",
        "b = b.drop(['count', 'std', 'min', '25%', '50%', '75%', 'max']) # 평균값 빼고 다 제거\n",
        "b= b.drop(['Number', 'Generation', 'Legendary','BST'],axis='columns') # 쓸데 없는 columns 삭제\n",
        "b = b.T\n",
        "\n",
        "#선 그래프로 보이기\n",
        "plt.figure(figsize = (15,10))\n",
        "plt.plot(a,marker='o')\n",
        "plt.plot(b,marker='o')\n",
        "plt.legend(['Legendary','Normal'])"
      ],
      "execution_count": 402,
      "outputs": [
        {
          "output_type": "execute_result",
          "data": {
            "text/plain": [
              "<matplotlib.legend.Legend at 0x7f7ab2271610>"
            ]
          },
          "metadata": {},
          "execution_count": 402
        },
        {
          "output_type": "display_data",
          "data": {
            "image/png": "[encoded data removed]",
            "text/plain": [
              "<Figure size 1080x720 with 1 Axes>"
            ]
          },
          "metadata": {
            "needs_background": "light"
          }
        }
      ]
    },
    {
      "cell_type": "markdown",
      "metadata": {
        "id": "O62Q1gPY6b2J"
      },
      "source": [
        "Mean값을 큰 순으로 정렬하고 상위 15마리 포켓몬이 전설의 포켓몬인지 확인"
      ]
    },
    {
      "cell_type": "code",
      "metadata": {
        "colab": {
          "base_uri": "https://localhost:8080/",
          "height": 684
        },
        "id": "Qup9NLGZ6SSa",
        "outputId": "534a3b6c-b1a9-443a-ab9d-231eda2de5a2"
      },
      "source": [
        "df_Mean = df.sort_values(by=['Mean'],axis = 0,ascending=False) #전체 능력치의 평균이 높은 순으로 정렬\n",
        "# 평균 값과 이름과 Legendary 빼고 다 제거\n",
        "df_Mean = df_Mean.drop(['Number', 'Type 1', 'HP', 'Att', 'Def', 'Spa',\n",
        "       'Spd', 'Spe', 'BST', 'Generation',\n",
        "       'Experience type', 'Height', 'Weight'], axis ='columns')\n",
        "\n",
        "df_Mean = df_Mean.reset_index(drop=True) #인덱스 넘버 값을 리셋\n",
        "\n",
        "df_Mean = df_Mean.drop(labels = range(15,1032), axis = 0) # 0 ~ 14까지의 행만 남겨두고 삭제\n",
        "\n",
        "for i in range(len(df_Mean['Legendary'])):\n",
        "  df_Mean['Legendary'][i] = df_Mean['Legendary'][i]*100 #전설의 포켓몬인지 확인하기 위해 모든 Legendary 값의 100을 곱함\n",
        "\n",
        "plt.figure(figsize=(25,10)) \n",
        "xtick_label_position = list(range(len(df_Mean['Name']))) \n",
        "plt.xticks(xtick_label_position, df_Mean['Name'])\n",
        " \n",
        "# 바 차트 출력, 막대기 색깔을 파란색으로 설정, 선 그래프는 주황색으로 설정\n",
        "plt.bar(xtick_label_position, df_Mean['Mean'], width=0.3,alpha = 0.5)\n",
        "df_Mean['Legendary'].plot(color='#ff7f0e',linestyle = 'solid',linewidth = 3.0,marker='o')\n",
        "plt.legend(['Legendary','Pokemon\\'s mean'])\n",
        "plt.show()"
      ],
      "execution_count": 435,
      "outputs": [
        {
          "output_type": "stream",
          "name": "stderr",
          "text": [
            "/usr/local/lib/python3.7/dist-packages/ipykernel_launcher.py:12: SettingWithCopyWarning: \n",
            "A value is trying to be set on a copy of a slice from a DataFrame\n",
            "\n",
            "See the caveats in the documentation: https://pandas.pydata.org/pandas-docs/stable/user_guide/indexing.html#returning-a-view-versus-a-copy\n",
            "  if sys.path[0] == '':\n"
          ]
        },
        {
          "output_type": "display_data",
          "data": {
            "image/png": "[encoded data removed]",
            "text/plain": [
              "<Figure size 1800x720 with 1 Axes>"
            ]
          },
          "metadata": {
            "needs_background": "light"
          }
        }
      ]
    },
    {
      "cell_type": "markdown",
      "metadata": {
        "id": "AlK38OJuCKZr"
      },
      "source": [
        "# **Train Test Split**"
      ]
    },
    {
      "cell_type": "markdown",
      "source": [
        "실수값 아닌 것들 One Hot coding"
      ],
      "metadata": {
        "id": "CfcXHB3Iq1gp"
      }
    },
    {
      "cell_type": "code",
      "source": [
        "ML_df = df\n",
        "ML_df = ML_df.drop('Name',axis = 'columns')\n",
        "ML_df = pd.get_dummies(ML_df)\n",
        "\n",
        "ML_df.head()"
      ],
      "metadata": {
        "colab": {
          "base_uri": "https://localhost:8080/",
          "height": 261
        },
        "id": "0mR_ER1iq0tQ",
        "outputId": "a96dcad3-d712-43f5-d244-f66d62d39fff"
      },
      "execution_count": 427,
      "outputs": [
        {
          "output_type": "execute_result",
          "data": {
            "text/html": [
              "<div>\n",
              "<style scoped>\n",
              "    .dataframe tbody tr th:only-of-type {\n",
              "        vertical-align: middle;\n",
              "    }\n",
              "\n",
              "    .dataframe tbody tr th {\n",
              "        vertical-align: top;\n",
              "    }\n",
              "\n",
              "    .dataframe thead th {\n",
              "        text-align: right;\n",
              "    }\n",
              "</style>\n",
              "<table border=\"1\" class=\"dataframe\">\n",
              "  <thead>\n",
              "    <tr style=\"text-align: right;\">\n",
              "      <th></th>\n",
              "      <th>Number</th>\n",
              "      <th>HP</th>\n",
              "      <th>Att</th>\n",
              "      <th>Def</th>\n",
              "      <th>Spa</th>\n",
              "      <th>Spd</th>\n",
              "      <th>Spe</th>\n",
              "      <th>BST</th>\n",
              "      <th>Mean</th>\n",
              "      <th>Generation</th>\n",
              "      <th>Catch Rate</th>\n",
              "      <th>Legendary</th>\n",
              "      <th>Height</th>\n",
              "      <th>Weight</th>\n",
              "      <th>Type 1_Bug</th>\n",
              "      <th>Type 1_Dark</th>\n",
              "      <th>Type 1_Dragon</th>\n",
              "      <th>Type 1_Electric</th>\n",
              "      <th>Type 1_Fairy</th>\n",
              "      <th>Type 1_Fighting</th>\n",
              "      <th>Type 1_Fire</th>\n",
              "      <th>Type 1_Flying</th>\n",
              "      <th>Type 1_Ghost</th>\n",
              "      <th>Type 1_Grass</th>\n",
              "      <th>Type 1_Ground</th>\n",
              "      <th>Type 1_Ice</th>\n",
              "      <th>Type 1_Normal</th>\n",
              "      <th>Type 1_Poison</th>\n",
              "      <th>Type 1_Psychic</th>\n",
              "      <th>Type 1_Rock</th>\n",
              "      <th>Type 1_Steel</th>\n",
              "      <th>Type 1_Water</th>\n",
              "      <th>Experience type_Erratic</th>\n",
              "      <th>Experience type_Fast</th>\n",
              "      <th>Experience type_Fluctuating</th>\n",
              "      <th>Experience type_Medium Fast</th>\n",
              "      <th>Experience type_Medium Slow</th>\n",
              "      <th>Experience type_Slow</th>\n",
              "    </tr>\n",
              "  </thead>\n",
              "  <tbody>\n",
              "    <tr>\n",
              "      <th>0</th>\n",
              "      <td>1</td>\n",
              "      <td>45</td>\n",
              "      <td>49</td>\n",
              "      <td>49</td>\n",
              "      <td>65</td>\n",
              "      <td>65</td>\n",
              "      <td>45</td>\n",
              "      <td>318</td>\n",
              "      <td>53.000000</td>\n",
              "      <td>1.0</td>\n",
              "      <td>45</td>\n",
              "      <td>0.0</td>\n",
              "      <td>0.7</td>\n",
              "      <td>6.9</td>\n",
              "      <td>0</td>\n",
              "      <td>0</td>\n",
              "      <td>0</td>\n",
              "      <td>0</td>\n",
              "      <td>0</td>\n",
              "      <td>0</td>\n",
              "      <td>0</td>\n",
              "      <td>0</td>\n",
              "      <td>0</td>\n",
              "      <td>1</td>\n",
              "      <td>0</td>\n",
              "      <td>0</td>\n",
              "      <td>0</td>\n",
              "      <td>0</td>\n",
              "      <td>0</td>\n",
              "      <td>0</td>\n",
              "      <td>0</td>\n",
              "      <td>0</td>\n",
              "      <td>0</td>\n",
              "      <td>0</td>\n",
              "      <td>0</td>\n",
              "      <td>0</td>\n",
              "      <td>1</td>\n",
              "      <td>0</td>\n",
              "    </tr>\n",
              "    <tr>\n",
              "      <th>1</th>\n",
              "      <td>2</td>\n",
              "      <td>60</td>\n",
              "      <td>62</td>\n",
              "      <td>63</td>\n",
              "      <td>80</td>\n",
              "      <td>80</td>\n",
              "      <td>60</td>\n",
              "      <td>405</td>\n",
              "      <td>67.500000</td>\n",
              "      <td>1.0</td>\n",
              "      <td>45</td>\n",
              "      <td>0.0</td>\n",
              "      <td>1.0</td>\n",
              "      <td>13.0</td>\n",
              "      <td>0</td>\n",
              "      <td>0</td>\n",
              "      <td>0</td>\n",
              "      <td>0</td>\n",
              "      <td>0</td>\n",
              "      <td>0</td>\n",
              "      <td>0</td>\n",
              "      <td>0</td>\n",
              "      <td>0</td>\n",
              "      <td>1</td>\n",
              "      <td>0</td>\n",
              "      <td>0</td>\n",
              "      <td>0</td>\n",
              "      <td>0</td>\n",
              "      <td>0</td>\n",
              "      <td>0</td>\n",
              "      <td>0</td>\n",
              "      <td>0</td>\n",
              "      <td>0</td>\n",
              "      <td>0</td>\n",
              "      <td>0</td>\n",
              "      <td>0</td>\n",
              "      <td>1</td>\n",
              "      <td>0</td>\n",
              "    </tr>\n",
              "    <tr>\n",
              "      <th>2</th>\n",
              "      <td>3</td>\n",
              "      <td>80</td>\n",
              "      <td>82</td>\n",
              "      <td>83</td>\n",
              "      <td>100</td>\n",
              "      <td>100</td>\n",
              "      <td>80</td>\n",
              "      <td>525</td>\n",
              "      <td>87.500000</td>\n",
              "      <td>1.0</td>\n",
              "      <td>45</td>\n",
              "      <td>0.0</td>\n",
              "      <td>2.0</td>\n",
              "      <td>100.0</td>\n",
              "      <td>0</td>\n",
              "      <td>0</td>\n",
              "      <td>0</td>\n",
              "      <td>0</td>\n",
              "      <td>0</td>\n",
              "      <td>0</td>\n",
              "      <td>0</td>\n",
              "      <td>0</td>\n",
              "      <td>0</td>\n",
              "      <td>1</td>\n",
              "      <td>0</td>\n",
              "      <td>0</td>\n",
              "      <td>0</td>\n",
              "      <td>0</td>\n",
              "      <td>0</td>\n",
              "      <td>0</td>\n",
              "      <td>0</td>\n",
              "      <td>0</td>\n",
              "      <td>0</td>\n",
              "      <td>0</td>\n",
              "      <td>0</td>\n",
              "      <td>0</td>\n",
              "      <td>1</td>\n",
              "      <td>0</td>\n",
              "    </tr>\n",
              "    <tr>\n",
              "      <th>3</th>\n",
              "      <td>3</td>\n",
              "      <td>80</td>\n",
              "      <td>100</td>\n",
              "      <td>123</td>\n",
              "      <td>122</td>\n",
              "      <td>120</td>\n",
              "      <td>80</td>\n",
              "      <td>625</td>\n",
              "      <td>104.166667</td>\n",
              "      <td>6.0</td>\n",
              "      <td>45</td>\n",
              "      <td>0.0</td>\n",
              "      <td>2.4</td>\n",
              "      <td>155.5</td>\n",
              "      <td>0</td>\n",
              "      <td>0</td>\n",
              "      <td>0</td>\n",
              "      <td>0</td>\n",
              "      <td>0</td>\n",
              "      <td>0</td>\n",
              "      <td>0</td>\n",
              "      <td>0</td>\n",
              "      <td>0</td>\n",
              "      <td>1</td>\n",
              "      <td>0</td>\n",
              "      <td>0</td>\n",
              "      <td>0</td>\n",
              "      <td>0</td>\n",
              "      <td>0</td>\n",
              "      <td>0</td>\n",
              "      <td>0</td>\n",
              "      <td>0</td>\n",
              "      <td>0</td>\n",
              "      <td>0</td>\n",
              "      <td>0</td>\n",
              "      <td>0</td>\n",
              "      <td>1</td>\n",
              "      <td>0</td>\n",
              "    </tr>\n",
              "    <tr>\n",
              "      <th>4</th>\n",
              "      <td>4</td>\n",
              "      <td>39</td>\n",
              "      <td>52</td>\n",
              "      <td>43</td>\n",
              "      <td>60</td>\n",
              "      <td>50</td>\n",
              "      <td>65</td>\n",
              "      <td>309</td>\n",
              "      <td>51.500000</td>\n",
              "      <td>1.0</td>\n",
              "      <td>45</td>\n",
              "      <td>0.0</td>\n",
              "      <td>0.6</td>\n",
              "      <td>8.5</td>\n",
              "      <td>0</td>\n",
              "      <td>0</td>\n",
              "      <td>0</td>\n",
              "      <td>0</td>\n",
              "      <td>0</td>\n",
              "      <td>0</td>\n",
              "      <td>1</td>\n",
              "      <td>0</td>\n",
              "      <td>0</td>\n",
              "      <td>0</td>\n",
              "      <td>0</td>\n",
              "      <td>0</td>\n",
              "      <td>0</td>\n",
              "      <td>0</td>\n",
              "      <td>0</td>\n",
              "      <td>0</td>\n",
              "      <td>0</td>\n",
              "      <td>0</td>\n",
              "      <td>0</td>\n",
              "      <td>0</td>\n",
              "      <td>0</td>\n",
              "      <td>0</td>\n",
              "      <td>1</td>\n",
              "      <td>0</td>\n",
              "    </tr>\n",
              "  </tbody>\n",
              "</table>\n",
              "</div>"
            ],
            "text/plain": [
              "   Number  HP  ...  Experience type_Medium Slow  Experience type_Slow\n",
              "0       1  45  ...                            1                     0\n",
              "1       2  60  ...                            1                     0\n",
              "2       3  80  ...                            1                     0\n",
              "3       3  80  ...                            1                     0\n",
              "4       4  39  ...                            1                     0\n",
              "\n",
              "[5 rows x 38 columns]"
            ]
          },
          "metadata": {},
          "execution_count": 427
        }
      ]
    },
    {
      "cell_type": "code",
      "metadata": {
        "id": "MMtNWkrjCNP8"
      },
      "source": [
        "from sklearn.preprocessing import StandardScaler\n",
        "\n",
        "# feature standardization\n",
        "scaler = StandardScaler()\n",
        "scale_columns = ['HP', 'Att', 'Def', 'Spa', 'Spd', 'Spe','BST','Mean','Catch Rate','Height','Weight']\n",
        "ML_df[scale_columns] = scaler.fit_transform(ML_df[scale_columns])\n",
        "\n",
        "ML_df = ML_df.set_index(\"Number\")\n",
        "X = ML_df.drop([\"Legendary\"],axis = 1)\n",
        "y = ML_df[\"Legendary\"]\n"
      ],
      "execution_count": 428,
      "outputs": []
    },
    {
      "cell_type": "code",
      "metadata": {
        "id": "k0Y8sSO4Kxb8"
      },
      "source": [
        "from sklearn.model_selection import train_test_split\n",
        "\n",
        "# splitting the data\n",
        "X_train, X_test, y_train, y_test = train_test_split(X, y, test_size=0.2, random_state=42 )"
      ],
      "execution_count": 429,
      "outputs": []
    },
    {
      "cell_type": "markdown",
      "metadata": {
        "id": "aQMci3QFMWqw"
      },
      "source": [
        "# **Import**"
      ]
    },
    {
      "cell_type": "code",
      "metadata": {
        "id": "hzBGMCK_MZNb"
      },
      "source": [
        "from sklearn.metrics import accuracy_score\n",
        "from sklearn.metrics import precision_score\n",
        "from sklearn.metrics import recall_score\n",
        "from sklearn.metrics import f1_score\n",
        "from sklearn.metrics import classification_report"
      ],
      "execution_count": 430,
      "outputs": []
    },
    {
      "cell_type": "markdown",
      "metadata": {
        "id": "_N9eKe41L1RZ"
      },
      "source": [
        "# **Logistic Regression**"
      ]
    },
    {
      "cell_type": "code",
      "metadata": {
        "colab": {
          "base_uri": "https://localhost:8080/"
        },
        "id": "NiZ7UL-IC_C4",
        "outputId": "778faa97-77bb-43fd-d892-0409671aa056"
      },
      "source": [
        "from sklearn.linear_model import LogisticRegression\n",
        "\n",
        "LogisticReg = LogisticRegression(random_state = 42)\n",
        "\n",
        "LogisticReg.fit(X_train, y_train)\n",
        "\n",
        "predictions = LogisticReg.predict(X_test)\n",
        "\n",
        "print(\"Accuracy:\", accuracy_score(y_test, predictions))\n",
        "print(\"Precision:\", precision_score(y_test, predictions))\n",
        "print(\"Recall:\", recall_score(y_test, predictions))\n",
        "print(\"F1-Score:\", f1_score(y_test, predictions ),\"\\n\")\n",
        "print(classification_report(y_test, predictions))\n",
        "\n",
        "#예측 실패한 포켓몬 확인\n",
        "p = y_test\n",
        "p=pd.DataFrame(p)\n",
        "p1 = list(p['Legendary'])\n",
        "num = p.index\n",
        "\n",
        "for i in range(len(y_test)):\n",
        "    if p1[i] != predictions[i]:\n",
        "      print(p1[i], predictions[i])\n",
        "      if num[i] in df['Number']:\n",
        "        print(df[df['Number']==num[i]].Name)\n",
        "\n",
        "print(LogisticReg.coef_)"
      ],
      "execution_count": 431,
      "outputs": [
        {
          "output_type": "stream",
          "name": "stdout",
          "text": [
            "Accuracy: 0.9565217391304348\n",
            "Precision: 0.8695652173913043\n",
            "Recall: 0.7692307692307693\n",
            "F1-Score: 0.8163265306122449 \n",
            "\n",
            "              precision    recall  f1-score   support\n",
            "\n",
            "         0.0       0.97      0.98      0.98       181\n",
            "         1.0       0.87      0.77      0.82        26\n",
            "\n",
            "    accuracy                           0.96       207\n",
            "   macro avg       0.92      0.88      0.90       207\n",
            "weighted avg       0.96      0.96      0.96       207\n",
            "\n",
            "1.0 0.0\n",
            "933    Blacephalon\n",
            "Name: Name, dtype: object\n",
            "1.0 0.0\n",
            "458         Rayquaza\n",
            "459    Mega Rayquaza\n",
            "Name: Name, dtype: object\n",
            "1.0 0.0\n",
            "919    Pheromosa\n",
            "Name: Name, dtype: object\n",
            "1.0 0.0\n",
            "583        Shaymin\n",
            "584    Shaymin-Sky\n",
            "Name: Name, dtype: object\n",
            "1.0 0.0\n",
            "1021    Kubfu\n",
            "Name: Name, dtype: object\n",
            "1.0 0.0\n",
            "831             Zygarde\n",
            "832         Zygarde 10%\n",
            "833    Zygarde Complete\n",
            "Name: Name, dtype: object\n",
            "0.0 1.0\n",
            "346    Slaking\n",
            "Name: Name, dtype: object\n",
            "0.0 1.0\n",
            "298         Tyranitar\n",
            "299    Mega Tyranitar\n",
            "Name: Name, dtype: object\n",
            "0.0 1.0\n",
            "985    Hatterene\n",
            "Name: Name, dtype: object\n",
            "[[ 0.61003338 -0.41024157  0.50837032  0.48632321  0.01588767  0.5397505\n",
            "   0.42283737  0.42283737  0.19160849 -1.43815014 -0.11081063  0.17722678\n",
            "  -0.36037345 -0.71575902 -0.97239144 -0.22196513  0.06320458  0.43833639\n",
            "   0.12197235  0.32794096 -0.20237969  0.19758625 -0.00394017 -0.06765147\n",
            "  -0.3093901   0.79915321  1.75645689 -0.13877242 -0.22699286 -0.48524588\n",
            "  -0.11721423 -0.63668811 -0.04097965 -1.29191102 -0.50200019  2.58858222]]\n"
          ]
        }
      ]
    },
    {
      "cell_type": "markdown",
      "metadata": {
        "id": "2SwHiGyqGbVX"
      },
      "source": [
        "# **Naive Bayes**"
      ]
    },
    {
      "cell_type": "code",
      "metadata": {
        "colab": {
          "base_uri": "https://localhost:8080/"
        },
        "id": "PTYmThffGfuZ",
        "outputId": "7598e41c-3557-4efc-f1ec-c23d484a519e"
      },
      "source": [
        "from sklearn.naive_bayes import GaussianNB\n",
        "model = GaussianNB()\n",
        "\n",
        "model.fit(X_train,y_train)\n",
        "\n",
        "predictions = model.predict(X_test)\n",
        "print(\"Accuracy:\", accuracy_score(y_test, predictions))\n",
        "print(\"Precision:\", precision_score(y_test, predictions))\n",
        "print(\"Recall:\", recall_score(y_test, predictions))\n",
        "print(\"F1-Score:\", f1_score(y_test, predictions ),\"\\n\")\n",
        "print(classification_report(y_test, predictions))\n",
        "\n",
        "p = y_test\n",
        "p=pd.DataFrame(p)\n",
        "p1 = list(p['Legendary'])\n",
        "num = p.index\n",
        "\n",
        "for i in range(len(y_test)):\n",
        "    if p1[i] != predictions[i]:\n",
        "      print(p1[i], predictions[i])\n",
        "      if num[i] in df['Number']:\n",
        "        print(df[df['Number']==num[i]].Name)"
      ],
      "execution_count": 410,
      "outputs": [
        {
          "output_type": "stream",
          "name": "stdout",
          "text": [
            "Accuracy: 0.8164251207729468\n",
            "Precision: 0.4032258064516129\n",
            "Recall: 0.9615384615384616\n",
            "F1-Score: 0.5681818181818181 \n",
            "\n",
            "              precision    recall  f1-score   support\n",
            "\n",
            "         0.0       0.99      0.80      0.88       181\n",
            "         1.0       0.40      0.96      0.57        26\n",
            "\n",
            "    accuracy                           0.82       207\n",
            "   macro avg       0.70      0.88      0.73       207\n",
            "weighted avg       0.92      0.82      0.84       207\n",
            "\n",
            "0.0 1.0\n",
            "76    Arcanine\n",
            "Name: Name, dtype: object\n",
            "0.0 1.0\n",
            "313         Swampert\n",
            "314    Mega Swampert\n",
            "Name: Name, dtype: object\n",
            "0.0 1.0\n",
            "305         Sceptile\n",
            "306    Mega Sceptile\n",
            "Name: Name, dtype: object\n",
            "0.0 1.0\n",
            "96           Golem\n",
            "97    Alolan Golem\n",
            "Name: Name, dtype: object\n",
            "0.0 1.0\n",
            "380    Carvanha\n",
            "Name: Name, dtype: object\n",
            "0.0 1.0\n",
            "976    Toxtricity\n",
            "Name: Name, dtype: object\n",
            "1.0 0.0\n",
            "583        Shaymin\n",
            "584    Shaymin-Sky\n",
            "Name: Name, dtype: object\n",
            "0.0 1.0\n",
            "261         Heracross\n",
            "262    Mega Heracross\n",
            "Name: Name, dtype: object\n",
            "0.0 1.0\n",
            "86    Machamp\n",
            "Name: Name, dtype: object\n",
            "0.0 1.0\n",
            "538    Carnivine\n",
            "Name: Name, dtype: object\n",
            "0.0 1.0\n",
            "296    Larvitar\n",
            "Name: Name, dtype: object\n",
            "0.0 1.0\n",
            "535    Drapion\n",
            "Name: Name, dtype: object\n",
            "0.0 1.0\n",
            "949    Corvisquire\n",
            "Name: Name, dtype: object\n",
            "0.0 1.0\n",
            "22         Pidgeot\n",
            "23    Mega Pidgeot\n",
            "Name: Name, dtype: object\n",
            "0.0 1.0\n",
            "1002               Eiscue\n",
            "1003    Eiscue Noice Face\n",
            "Name: Name, dtype: object\n",
            "0.0 1.0\n",
            "2         Venusaur\n",
            "3    Mega Venusaur\n",
            "Name: Name, dtype: object\n",
            "0.0 1.0\n",
            "370    Electrike\n",
            "Name: Name, dtype: object\n",
            "0.0 1.0\n",
            "346    Slaking\n",
            "Name: Name, dtype: object\n",
            "0.0 1.0\n",
            "542    Snover\n",
            "Name: Name, dtype: object\n",
            "0.0 1.0\n",
            "365         Aggron\n",
            "366    Mega Aggron\n",
            "Name: Name, dtype: object\n",
            "0.0 1.0\n",
            "483    Luxray\n",
            "Name: Name, dtype: object\n",
            "0.0 1.0\n",
            "980    Grapploct\n",
            "Name: Name, dtype: object\n",
            "0.0 1.0\n",
            "1008    Dracozolt\n",
            "Name: Name, dtype: object\n",
            "0.0 1.0\n",
            "974    Barraskewda\n",
            "Name: Name, dtype: object\n",
            "0.0 1.0\n",
            "760    Delphox\n",
            "Name: Name, dtype: object\n",
            "0.0 1.0\n",
            "440    Shelgon\n",
            "Name: Name, dtype: object\n",
            "0.0 1.0\n",
            "907    Hakamo-o\n",
            "Name: Name, dtype: object\n",
            "0.0 1.0\n",
            "528    Munchlax\n",
            "Name: Name, dtype: object\n",
            "0.0 1.0\n",
            "800    Clawitzer\n",
            "Name: Name, dtype: object\n",
            "0.0 1.0\n",
            "168    Lapras\n",
            "Name: Name, dtype: object\n",
            "0.0 1.0\n",
            "534    Skorupi\n",
            "Name: Name, dtype: object\n",
            "0.0 1.0\n",
            "889    Passimian\n",
            "Name: Name, dtype: object\n",
            "0.0 1.0\n",
            "120    Cloyster\n",
            "Name: Name, dtype: object\n",
            "0.0 1.0\n",
            "530         Lucario\n",
            "531    Mega Lucario\n",
            "Name: Name, dtype: object\n",
            "0.0 1.0\n",
            "213    Chinchou\n",
            "Name: Name, dtype: object\n",
            "0.0 1.0\n",
            "298         Tyranitar\n",
            "299    Mega Tyranitar\n",
            "Name: Name, dtype: object\n",
            "0.0 1.0\n",
            "275    Mantine\n",
            "Name: Name, dtype: object\n",
            "0.0 1.0\n",
            "985    Hatterene\n",
            "Name: Name, dtype: object\n"
          ]
        }
      ]
    },
    {
      "cell_type": "markdown",
      "metadata": {
        "id": "z0LhFPwXHDFl"
      },
      "source": [
        "# **Decision Tree**"
      ]
    },
    {
      "cell_type": "code",
      "metadata": {
        "colab": {
          "base_uri": "https://localhost:8080/",
          "height": 974
        },
        "id": "OKDFS64XHCub",
        "outputId": "4f0d794f-22d0-4f2c-f423-5d00ea2cb16f"
      },
      "source": [
        "from sklearn.tree import DecisionTreeClassifier\n",
        "\n",
        "clf = DecisionTreeClassifier()\n",
        "\n",
        "clf = clf.fit(X_train, y_train)\n",
        "\n",
        "predictions = clf.predict(X_test)\n",
        "print(\"Accuracy:\", accuracy_score(y_test, predictions))\n",
        "print(\"Precision:\", precision_score(y_test, predictions))\n",
        "print(\"Recall:\", recall_score(y_test, predictions))\n",
        "print(\"F1-Score:\", f1_score(y_test, predictions ),\"\\n\")\n",
        "print(classification_report(y_test, predictions))\n",
        "\n",
        "for i in range(len(y_test)):\n",
        "    if p1[i] != predictions[i]:\n",
        "      print(p1[i], predictions[i])\n",
        "      if num[i] in df['Number']:\n",
        "        print(df[df['Number']==num[i]].Name)\n",
        "        \n",
        "feature_importance_values = clf.feature_importances_\n",
        "# Top 중요도로 정렬하고, 쉽게 시각화하기 위해 Series 변환\n",
        "feature_importances = pd.Series(feature_importance_values, index=X_train.columns)\n",
        "# 중요도값 순으로 Series를 정렬\n",
        "feature_top20 = feature_importances.sort_values(ascending=False)[:20]\n",
        "\n",
        "plt.figure(figsize=(15, 10))\n",
        "plt.title('Feature Importances')\n",
        "sns.barplot(x=feature_top20, y=feature_top20.index)\n",
        "plt.show()"
      ],
      "execution_count": 438,
      "outputs": [
        {
          "output_type": "stream",
          "name": "stdout",
          "text": [
            "Accuracy: 0.9903381642512077\n",
            "Precision: 0.9615384615384616\n",
            "Recall: 0.9615384615384616\n",
            "F1-Score: 0.9615384615384616 \n",
            "\n",
            "              precision    recall  f1-score   support\n",
            "\n",
            "         0.0       0.99      0.99      0.99       181\n",
            "         1.0       0.96      0.96      0.96        26\n",
            "\n",
            "    accuracy                           0.99       207\n",
            "   macro avg       0.98      0.98      0.98       207\n",
            "weighted avg       0.99      0.99      0.99       207\n",
            "\n",
            "1.0 0.0\n",
            "829    Xerneas\n",
            "Name: Name, dtype: object\n",
            "0.0 1.0\n",
            "705    Litwick\n",
            "Name: Name, dtype: object\n"
          ]
        },
        {
          "output_type": "display_data",
          "data": {
            "image/png": "[encoded data removed]",
            "text/plain": [
              "<Figure size 1080x720 with 1 Axes>"
            ]
          },
          "metadata": {
            "needs_background": "light"
          }
        }
      ]
    },
    {
      "cell_type": "markdown",
      "metadata": {
        "id": "f6veA_ciRasc"
      },
      "source": [
        "# **Random Forest**"
      ]
    },
    {
      "cell_type": "code",
      "metadata": {
        "colab": {
          "base_uri": "https://localhost:8080/",
          "height": 794
        },
        "id": "lMFYvEPyRec8",
        "outputId": "ab0098af-cc87-41a6-a307-d84417b161ba"
      },
      "source": [
        "from sklearn.ensemble import RandomForestClassifier\n",
        "\n",
        "clf = RandomForestClassifier()\n",
        "\n",
        "clf = clf.fit(X_train, y_train)\n",
        "\n",
        "predictions = clf.predict(X_test)\n",
        "print(\"Accuracy:\", accuracy_score(y_test, predictions))\n",
        "print(\"Precision:\", precision_score(y_test, predictions))\n",
        "print(\"Recall:\", recall_score(y_test, predictions))\n",
        "print(\"F1-Score:\", f1_score(y_test, predictions ),\"\\n\")\n",
        "print(classification_report(y_test, predictions))\n",
        "\n",
        "p = y_test\n",
        "p=pd.DataFrame(p)\n",
        "p1 = list(p['Legendary'])\n",
        "num = p.index\n",
        "\n",
        "for i in range(len(y_test)):\n",
        "    if p1[i] != predictions[i]:\n",
        "      print(p1[i], predictions[i])\n",
        "      if num[i] in df['Number']:\n",
        "        print(df[df['Number']==num[i]].Name)\n",
        "\n",
        "feature_importance_values = clf.feature_importances_\n",
        "# Top 중요도로 정렬하고, 쉽게 시각화하기 위해 Series 변환\n",
        "feature_importances = pd.Series(feature_importance_values, index=X_train.columns)\n",
        "# 중요도값 순으로 Series를 정렬\n",
        "feature_top20 = feature_importances.sort_values(ascending=False)[:20]\n",
        "\n",
        "plt.figure(figsize=[8, 6])\n",
        "plt.title('Feature Importances')\n",
        "sns.barplot(x=feature_top20, y=feature_top20.index)\n",
        "plt.show()"
      ],
      "execution_count": 417,
      "outputs": [
        {
          "output_type": "stream",
          "name": "stdout",
          "text": [
            "Accuracy: 0.9903381642512077\n",
            "Precision: 1.0\n",
            "Recall: 0.9230769230769231\n",
            "F1-Score: 0.9600000000000001 \n",
            "\n",
            "              precision    recall  f1-score   support\n",
            "\n",
            "         0.0       0.99      1.00      0.99       181\n",
            "         1.0       1.00      0.92      0.96        26\n",
            "\n",
            "    accuracy                           0.99       207\n",
            "   macro avg       0.99      0.96      0.98       207\n",
            "weighted avg       0.99      0.99      0.99       207\n",
            "\n",
            "1.0 0.0\n",
            "1021    Kubfu\n",
            "Name: Name, dtype: object\n",
            "1.0 0.0\n",
            "831             Zygarde\n",
            "832         Zygarde 10%\n",
            "833    Zygarde Complete\n",
            "Name: Name, dtype: object\n"
          ]
        },
        {
          "output_type": "display_data",
          "data": {
            "image/png": "[encoded data removed]",
            "text/plain": [
              "<Figure size 576x432 with 1 Axes>"
            ]
          },
          "metadata": {
            "needs_background": "light"
          }
        }
      ]
    },
    {
      "cell_type": "markdown",
      "metadata": {
        "id": "DZyzYEe8Op0N"
      },
      "source": [
        "# **Train the Support Vector Classifier**"
      ]
    },
    {
      "cell_type": "code",
      "metadata": {
        "colab": {
          "base_uri": "https://localhost:8080/"
        },
        "id": "AVybSHSuN6IR",
        "outputId": "b7747afc-8985-4047-bb34-2a1b99a0c85f"
      },
      "source": [
        "from sklearn.svm import SVC\n",
        "\n",
        "model = SVC(gamma='auto')\n",
        "\n",
        "model.fit(X_train,y_train)\n",
        "\n",
        "predictions = model.predict(X_test)\n",
        "print(\"Accuracy:\", accuracy_score(y_test, predictions))\n",
        "print(\"Precision:\", precision_score(y_test, predictions))\n",
        "print(\"Recall:\", recall_score(y_test, predictions))\n",
        "print(\"F1-Score:\", f1_score(y_test, predictions ),\"\\n\")\n",
        "print(classification_report(y_test, predictions))"
      ],
      "execution_count": 418,
      "outputs": [
        {
          "output_type": "stream",
          "name": "stdout",
          "text": [
            "Accuracy: 0.9565217391304348\n",
            "Precision: 0.9047619047619048\n",
            "Recall: 0.7307692307692307\n",
            "F1-Score: 0.8085106382978723 \n",
            "\n",
            "              precision    recall  f1-score   support\n",
            "\n",
            "         0.0       0.96      0.99      0.98       181\n",
            "         1.0       0.90      0.73      0.81        26\n",
            "\n",
            "    accuracy                           0.96       207\n",
            "   macro avg       0.93      0.86      0.89       207\n",
            "weighted avg       0.96      0.96      0.95       207\n",
            "\n"
          ]
        }
      ]
    },
    {
      "cell_type": "markdown",
      "metadata": {
        "id": "Wpc55u1COwE1"
      },
      "source": [
        "# **Gridsearch**"
      ]
    },
    {
      "cell_type": "code",
      "metadata": {
        "id": "IbkuQBDKOzt2"
      },
      "source": [
        "param_grid = {'C': [0.1, 1, 10, 100, 1000, 10000],\n",
        "              'gamma': [1, 0.1, 0.01, 0.001, 0.0001, 0.0001],\n",
        "              'kernel': ['rbf']} "
      ],
      "execution_count": 419,
      "outputs": []
    },
    {
      "cell_type": "code",
      "metadata": {
        "colab": {
          "base_uri": "https://localhost:8080/"
        },
        "id": "_iSdYxPFO2O3",
        "outputId": "33e379cd-945b-4606-baf4-4f262adbb2c1"
      },
      "source": [
        "from sklearn.model_selection import GridSearchCV\n",
        "\n",
        "grid = GridSearchCV(SVC(), param_grid, refit=True, verbose=3)\n",
        "\n",
        "# May take awhile!\n",
        "grid.fit(X_train,y_train)"
      ],
      "execution_count": 420,
      "outputs": [
        {
          "output_type": "stream",
          "name": "stdout",
          "text": [
            "Fitting 5 folds for each of 36 candidates, totalling 180 fits\n",
            "[CV 1/5] END ........C=0.1, gamma=1, kernel=rbf;, score=0.885 total time=   0.1s\n",
            "[CV 2/5] END ........C=0.1, gamma=1, kernel=rbf;, score=0.879 total time=   0.0s\n",
            "[CV 3/5] END ........C=0.1, gamma=1, kernel=rbf;, score=0.879 total time=   0.0s\n",
            "[CV 4/5] END ........C=0.1, gamma=1, kernel=rbf;, score=0.879 total time=   0.1s\n",
            "[CV 5/5] END ........C=0.1, gamma=1, kernel=rbf;, score=0.879 total time=   0.3s\n",
            "[CV 1/5] END ......C=0.1, gamma=0.1, kernel=rbf;, score=0.885 total time=   0.0s\n",
            "[CV 2/5] END ......C=0.1, gamma=0.1, kernel=rbf;, score=0.879 total time=   0.0s\n",
            "[CV 3/5] END ......C=0.1, gamma=0.1, kernel=rbf;, score=0.879 total time=   0.0s\n",
            "[CV 4/5] END ......C=0.1, gamma=0.1, kernel=rbf;, score=0.879 total time=   0.0s\n",
            "[CV 5/5] END ......C=0.1, gamma=0.1, kernel=rbf;, score=0.879 total time=   0.0s\n",
            "[CV 1/5] END .....C=0.1, gamma=0.01, kernel=rbf;, score=0.885 total time=   0.0s\n",
            "[CV 2/5] END .....C=0.1, gamma=0.01, kernel=rbf;, score=0.879 total time=   0.0s\n",
            "[CV 3/5] END .....C=0.1, gamma=0.01, kernel=rbf;, score=0.879 total time=   0.0s\n",
            "[CV 4/5] END .....C=0.1, gamma=0.01, kernel=rbf;, score=0.879 total time=   0.0s\n",
            "[CV 5/5] END .....C=0.1, gamma=0.01, kernel=rbf;, score=0.879 total time=   0.0s\n",
            "[CV 1/5] END ....C=0.1, gamma=0.001, kernel=rbf;, score=0.885 total time=   0.0s\n",
            "[CV 2/5] END ....C=0.1, gamma=0.001, kernel=rbf;, score=0.879 total time=   0.0s\n",
            "[CV 3/5] END ....C=0.1, gamma=0.001, kernel=rbf;, score=0.879 total time=   0.0s\n",
            "[CV 4/5] END ....C=0.1, gamma=0.001, kernel=rbf;, score=0.879 total time=   0.0s\n",
            "[CV 5/5] END ....C=0.1, gamma=0.001, kernel=rbf;, score=0.879 total time=   0.0s\n",
            "[CV 1/5] END ...C=0.1, gamma=0.0001, kernel=rbf;, score=0.885 total time=   0.0s\n",
            "[CV 2/5] END ...C=0.1, gamma=0.0001, kernel=rbf;, score=0.879 total time=   0.0s\n",
            "[CV 3/5] END ...C=0.1, gamma=0.0001, kernel=rbf;, score=0.879 total time=   0.0s\n",
            "[CV 4/5] END ...C=0.1, gamma=0.0001, kernel=rbf;, score=0.879 total time=   0.0s\n",
            "[CV 5/5] END ...C=0.1, gamma=0.0001, kernel=rbf;, score=0.879 total time=   0.0s\n",
            "[CV 1/5] END ...C=0.1, gamma=0.0001, kernel=rbf;, score=0.885 total time=   0.0s\n",
            "[CV 2/5] END ...C=0.1, gamma=0.0001, kernel=rbf;, score=0.879 total time=   0.0s\n",
            "[CV 3/5] END ...C=0.1, gamma=0.0001, kernel=rbf;, score=0.879 total time=   0.0s\n",
            "[CV 4/5] END ...C=0.1, gamma=0.0001, kernel=rbf;, score=0.879 total time=   0.0s\n",
            "[CV 5/5] END ...C=0.1, gamma=0.0001, kernel=rbf;, score=0.879 total time=   0.0s\n",
            "[CV 1/5] END ..........C=1, gamma=1, kernel=rbf;, score=0.885 total time=   0.1s\n",
            "[CV 2/5] END ..........C=1, gamma=1, kernel=rbf;, score=0.879 total time=   0.1s\n",
            "[CV 3/5] END ..........C=1, gamma=1, kernel=rbf;, score=0.879 total time=   0.1s\n",
            "[CV 4/5] END ..........C=1, gamma=1, kernel=rbf;, score=0.879 total time=   0.1s\n",
            "[CV 5/5] END ..........C=1, gamma=1, kernel=rbf;, score=0.879 total time=   0.1s\n",
            "[CV 1/5] END ........C=1, gamma=0.1, kernel=rbf;, score=0.952 total time=   0.0s\n",
            "[CV 2/5] END ........C=1, gamma=0.1, kernel=rbf;, score=0.976 total time=   0.0s\n",
            "[CV 3/5] END ........C=1, gamma=0.1, kernel=rbf;, score=0.945 total time=   0.0s\n",
            "[CV 4/5] END ........C=1, gamma=0.1, kernel=rbf;, score=0.964 total time=   0.0s\n",
            "[CV 5/5] END ........C=1, gamma=0.1, kernel=rbf;, score=0.958 total time=   0.0s\n",
            "[CV 1/5] END .......C=1, gamma=0.01, kernel=rbf;, score=0.952 total time=   0.0s\n",
            "[CV 2/5] END .......C=1, gamma=0.01, kernel=rbf;, score=0.964 total time=   0.0s\n",
            "[CV 3/5] END .......C=1, gamma=0.01, kernel=rbf;, score=0.933 total time=   0.0s\n",
            "[CV 4/5] END .......C=1, gamma=0.01, kernel=rbf;, score=0.939 total time=   0.0s\n",
            "[CV 5/5] END .......C=1, gamma=0.01, kernel=rbf;, score=0.958 total time=   0.0s\n",
            "[CV 1/5] END ......C=1, gamma=0.001, kernel=rbf;, score=0.885 total time=   0.0s\n",
            "[CV 2/5] END ......C=1, gamma=0.001, kernel=rbf;, score=0.879 total time=   0.0s\n",
            "[CV 3/5] END ......C=1, gamma=0.001, kernel=rbf;, score=0.873 total time=   0.0s\n",
            "[CV 4/5] END ......C=1, gamma=0.001, kernel=rbf;, score=0.879 total time=   0.0s\n",
            "[CV 5/5] END ......C=1, gamma=0.001, kernel=rbf;, score=0.879 total time=   0.0s\n",
            "[CV 1/5] END .....C=1, gamma=0.0001, kernel=rbf;, score=0.885 total time=   0.0s\n",
            "[CV 2/5] END .....C=1, gamma=0.0001, kernel=rbf;, score=0.879 total time=   0.0s\n",
            "[CV 3/5] END .....C=1, gamma=0.0001, kernel=rbf;, score=0.879 total time=   0.0s\n",
            "[CV 4/5] END .....C=1, gamma=0.0001, kernel=rbf;, score=0.879 total time=   0.0s\n",
            "[CV 5/5] END .....C=1, gamma=0.0001, kernel=rbf;, score=0.879 total time=   0.0s\n",
            "[CV 1/5] END .....C=1, gamma=0.0001, kernel=rbf;, score=0.885 total time=   0.0s\n",
            "[CV 2/5] END .....C=1, gamma=0.0001, kernel=rbf;, score=0.879 total time=   0.0s\n",
            "[CV 3/5] END .....C=1, gamma=0.0001, kernel=rbf;, score=0.879 total time=   0.0s\n",
            "[CV 4/5] END .....C=1, gamma=0.0001, kernel=rbf;, score=0.879 total time=   0.0s\n",
            "[CV 5/5] END .....C=1, gamma=0.0001, kernel=rbf;, score=0.879 total time=   0.0s\n",
            "[CV 1/5] END .........C=10, gamma=1, kernel=rbf;, score=0.891 total time=   0.1s\n",
            "[CV 2/5] END .........C=10, gamma=1, kernel=rbf;, score=0.891 total time=   0.0s\n",
            "[CV 3/5] END .........C=10, gamma=1, kernel=rbf;, score=0.879 total time=   0.1s\n",
            "[CV 4/5] END .........C=10, gamma=1, kernel=rbf;, score=0.879 total time=   0.1s\n",
            "[CV 5/5] END .........C=10, gamma=1, kernel=rbf;, score=0.885 total time=   0.1s\n",
            "[CV 1/5] END .......C=10, gamma=0.1, kernel=rbf;, score=0.964 total time=   0.0s\n",
            "[CV 2/5] END .......C=10, gamma=0.1, kernel=rbf;, score=0.970 total time=   0.0s\n",
            "[CV 3/5] END .......C=10, gamma=0.1, kernel=rbf;, score=0.952 total time=   0.0s\n",
            "[CV 4/5] END .......C=10, gamma=0.1, kernel=rbf;, score=0.976 total time=   0.0s\n",
            "[CV 5/5] END .......C=10, gamma=0.1, kernel=rbf;, score=0.952 total time=   0.0s\n",
            "[CV 1/5] END ......C=10, gamma=0.01, kernel=rbf;, score=0.958 total time=   0.0s\n",
            "[CV 2/5] END ......C=10, gamma=0.01, kernel=rbf;, score=0.964 total time=   0.0s\n",
            "[CV 3/5] END ......C=10, gamma=0.01, kernel=rbf;, score=0.945 total time=   0.0s\n",
            "[CV 4/5] END ......C=10, gamma=0.01, kernel=rbf;, score=0.964 total time=   0.0s\n",
            "[CV 5/5] END ......C=10, gamma=0.01, kernel=rbf;, score=0.964 total time=   0.0s\n",
            "[CV 1/5] END .....C=10, gamma=0.001, kernel=rbf;, score=0.945 total time=   0.0s\n",
            "[CV 2/5] END .....C=10, gamma=0.001, kernel=rbf;, score=0.964 total time=   0.0s\n",
            "[CV 3/5] END .....C=10, gamma=0.001, kernel=rbf;, score=0.927 total time=   0.0s\n",
            "[CV 4/5] END .....C=10, gamma=0.001, kernel=rbf;, score=0.958 total time=   0.0s\n",
            "[CV 5/5] END .....C=10, gamma=0.001, kernel=rbf;, score=0.958 total time=   0.0s\n",
            "[CV 1/5] END ....C=10, gamma=0.0001, kernel=rbf;, score=0.891 total time=   0.0s\n",
            "[CV 2/5] END ....C=10, gamma=0.0001, kernel=rbf;, score=0.879 total time=   0.0s\n",
            "[CV 3/5] END ....C=10, gamma=0.0001, kernel=rbf;, score=0.873 total time=   0.0s\n",
            "[CV 4/5] END ....C=10, gamma=0.0001, kernel=rbf;, score=0.879 total time=   0.0s\n",
            "[CV 5/5] END ....C=10, gamma=0.0001, kernel=rbf;, score=0.879 total time=   0.0s\n",
            "[CV 1/5] END ....C=10, gamma=0.0001, kernel=rbf;, score=0.891 total time=   0.0s\n",
            "[CV 2/5] END ....C=10, gamma=0.0001, kernel=rbf;, score=0.879 total time=   0.0s\n",
            "[CV 3/5] END ....C=10, gamma=0.0001, kernel=rbf;, score=0.873 total time=   0.0s\n",
            "[CV 4/5] END ....C=10, gamma=0.0001, kernel=rbf;, score=0.879 total time=   0.0s\n",
            "[CV 5/5] END ....C=10, gamma=0.0001, kernel=rbf;, score=0.879 total time=   0.0s\n",
            "[CV 1/5] END ........C=100, gamma=1, kernel=rbf;, score=0.891 total time=   0.1s\n",
            "[CV 2/5] END ........C=100, gamma=1, kernel=rbf;, score=0.891 total time=   0.1s\n",
            "[CV 3/5] END ........C=100, gamma=1, kernel=rbf;, score=0.879 total time=   0.0s\n",
            "[CV 4/5] END ........C=100, gamma=1, kernel=rbf;, score=0.879 total time=   0.0s\n",
            "[CV 5/5] END ........C=100, gamma=1, kernel=rbf;, score=0.885 total time=   0.0s\n",
            "[CV 1/5] END ......C=100, gamma=0.1, kernel=rbf;, score=0.964 total time=   0.0s\n",
            "[CV 2/5] END ......C=100, gamma=0.1, kernel=rbf;, score=0.970 total time=   0.0s\n",
            "[CV 3/5] END ......C=100, gamma=0.1, kernel=rbf;, score=0.952 total time=   0.0s\n",
            "[CV 4/5] END ......C=100, gamma=0.1, kernel=rbf;, score=0.976 total time=   0.0s\n",
            "[CV 5/5] END ......C=100, gamma=0.1, kernel=rbf;, score=0.952 total time=   0.0s\n",
            "[CV 1/5] END .....C=100, gamma=0.01, kernel=rbf;, score=0.970 total time=   0.0s\n",
            "[CV 2/5] END .....C=100, gamma=0.01, kernel=rbf;, score=0.982 total time=   0.0s\n",
            "[CV 3/5] END .....C=100, gamma=0.01, kernel=rbf;, score=0.952 total time=   0.0s\n",
            "[CV 4/5] END .....C=100, gamma=0.01, kernel=rbf;, score=0.958 total time=   0.0s\n",
            "[CV 5/5] END .....C=100, gamma=0.01, kernel=rbf;, score=0.964 total time=   0.0s\n",
            "[CV 1/5] END ....C=100, gamma=0.001, kernel=rbf;, score=0.970 total time=   0.0s\n",
            "[CV 2/5] END ....C=100, gamma=0.001, kernel=rbf;, score=0.970 total time=   0.0s\n",
            "[CV 3/5] END ....C=100, gamma=0.001, kernel=rbf;, score=0.933 total time=   0.0s\n",
            "[CV 4/5] END ....C=100, gamma=0.001, kernel=rbf;, score=0.976 total time=   0.0s\n",
            "[CV 5/5] END ....C=100, gamma=0.001, kernel=rbf;, score=0.982 total time=   0.0s\n",
            "[CV 1/5] END ...C=100, gamma=0.0001, kernel=rbf;, score=0.945 total time=   0.0s\n",
            "[CV 2/5] END ...C=100, gamma=0.0001, kernel=rbf;, score=0.958 total time=   0.0s\n",
            "[CV 3/5] END ...C=100, gamma=0.0001, kernel=rbf;, score=0.933 total time=   0.0s\n",
            "[CV 4/5] END ...C=100, gamma=0.0001, kernel=rbf;, score=0.958 total time=   0.0s\n",
            "[CV 5/5] END ...C=100, gamma=0.0001, kernel=rbf;, score=0.958 total time=   0.0s\n",
            "[CV 1/5] END ...C=100, gamma=0.0001, kernel=rbf;, score=0.945 total time=   0.0s\n",
            "[CV 2/5] END ...C=100, gamma=0.0001, kernel=rbf;, score=0.958 total time=   0.0s\n",
            "[CV 3/5] END ...C=100, gamma=0.0001, kernel=rbf;, score=0.933 total time=   0.0s\n",
            "[CV 4/5] END ...C=100, gamma=0.0001, kernel=rbf;, score=0.958 total time=   0.0s\n",
            "[CV 5/5] END ...C=100, gamma=0.0001, kernel=rbf;, score=0.958 total time=   0.0s\n",
            "[CV 1/5] END .......C=1000, gamma=1, kernel=rbf;, score=0.891 total time=   0.1s\n",
            "[CV 2/5] END .......C=1000, gamma=1, kernel=rbf;, score=0.891 total time=   0.0s\n",
            "[CV 3/5] END .......C=1000, gamma=1, kernel=rbf;, score=0.879 total time=   0.0s\n",
            "[CV 4/5] END .......C=1000, gamma=1, kernel=rbf;, score=0.879 total time=   0.1s\n",
            "[CV 5/5] END .......C=1000, gamma=1, kernel=rbf;, score=0.885 total time=   0.1s\n",
            "[CV 1/5] END .....C=1000, gamma=0.1, kernel=rbf;, score=0.964 total time=   0.0s\n",
            "[CV 2/5] END .....C=1000, gamma=0.1, kernel=rbf;, score=0.970 total time=   0.0s\n",
            "[CV 3/5] END .....C=1000, gamma=0.1, kernel=rbf;, score=0.952 total time=   0.0s\n",
            "[CV 4/5] END .....C=1000, gamma=0.1, kernel=rbf;, score=0.976 total time=   0.0s\n",
            "[CV 5/5] END .....C=1000, gamma=0.1, kernel=rbf;, score=0.952 total time=   0.0s\n",
            "[CV 1/5] END ....C=1000, gamma=0.01, kernel=rbf;, score=0.964 total time=   0.0s\n",
            "[CV 2/5] END ....C=1000, gamma=0.01, kernel=rbf;, score=0.994 total time=   0.0s\n",
            "[CV 3/5] END ....C=1000, gamma=0.01, kernel=rbf;, score=0.970 total time=   0.0s\n",
            "[CV 4/5] END ....C=1000, gamma=0.01, kernel=rbf;, score=0.964 total time=   0.0s\n",
            "[CV 5/5] END ....C=1000, gamma=0.01, kernel=rbf;, score=0.970 total time=   0.0s\n",
            "[CV 1/5] END ...C=1000, gamma=0.001, kernel=rbf;, score=0.945 total time=   0.0s\n",
            "[CV 2/5] END ...C=1000, gamma=0.001, kernel=rbf;, score=0.958 total time=   0.0s\n",
            "[CV 3/5] END ...C=1000, gamma=0.001, kernel=rbf;, score=0.939 total time=   0.0s\n",
            "[CV 4/5] END ...C=1000, gamma=0.001, kernel=rbf;, score=0.970 total time=   0.0s\n",
            "[CV 5/5] END ...C=1000, gamma=0.001, kernel=rbf;, score=0.964 total time=   0.0s\n",
            "[CV 1/5] END ..C=1000, gamma=0.0001, kernel=rbf;, score=0.970 total time=   0.0s\n",
            "[CV 2/5] END ..C=1000, gamma=0.0001, kernel=rbf;, score=0.970 total time=   0.0s\n",
            "[CV 3/5] END ..C=1000, gamma=0.0001, kernel=rbf;, score=0.933 total time=   0.0s\n",
            "[CV 4/5] END ..C=1000, gamma=0.0001, kernel=rbf;, score=0.970 total time=   0.0s\n",
            "[CV 5/5] END ..C=1000, gamma=0.0001, kernel=rbf;, score=0.982 total time=   0.0s\n",
            "[CV 1/5] END ..C=1000, gamma=0.0001, kernel=rbf;, score=0.970 total time=   0.0s\n",
            "[CV 2/5] END ..C=1000, gamma=0.0001, kernel=rbf;, score=0.970 total time=   0.0s\n",
            "[CV 3/5] END ..C=1000, gamma=0.0001, kernel=rbf;, score=0.933 total time=   0.0s\n",
            "[CV 4/5] END ..C=1000, gamma=0.0001, kernel=rbf;, score=0.970 total time=   0.0s\n",
            "[CV 5/5] END ..C=1000, gamma=0.0001, kernel=rbf;, score=0.982 total time=   0.0s\n",
            "[CV 1/5] END ......C=10000, gamma=1, kernel=rbf;, score=0.891 total time=   0.0s\n",
            "[CV 2/5] END ......C=10000, gamma=1, kernel=rbf;, score=0.891 total time=   0.0s\n",
            "[CV 3/5] END ......C=10000, gamma=1, kernel=rbf;, score=0.879 total time=   0.1s\n",
            "[CV 4/5] END ......C=10000, gamma=1, kernel=rbf;, score=0.879 total time=   0.1s\n",
            "[CV 5/5] END ......C=10000, gamma=1, kernel=rbf;, score=0.885 total time=   0.1s\n",
            "[CV 1/5] END ....C=10000, gamma=0.1, kernel=rbf;, score=0.964 total time=   0.0s\n",
            "[CV 2/5] END ....C=10000, gamma=0.1, kernel=rbf;, score=0.970 total time=   0.0s\n",
            "[CV 3/5] END ....C=10000, gamma=0.1, kernel=rbf;, score=0.952 total time=   0.0s\n",
            "[CV 4/5] END ....C=10000, gamma=0.1, kernel=rbf;, score=0.976 total time=   0.0s\n",
            "[CV 5/5] END ....C=10000, gamma=0.1, kernel=rbf;, score=0.952 total time=   0.0s\n",
            "[CV 1/5] END ...C=10000, gamma=0.01, kernel=rbf;, score=0.964 total time=   0.0s\n",
            "[CV 2/5] END ...C=10000, gamma=0.01, kernel=rbf;, score=0.994 total time=   0.0s\n",
            "[CV 3/5] END ...C=10000, gamma=0.01, kernel=rbf;, score=0.970 total time=   0.0s\n",
            "[CV 4/5] END ...C=10000, gamma=0.01, kernel=rbf;, score=0.964 total time=   0.0s\n",
            "[CV 5/5] END ...C=10000, gamma=0.01, kernel=rbf;, score=0.970 total time=   0.0s\n",
            "[CV 1/5] END ..C=10000, gamma=0.001, kernel=rbf;, score=0.964 total time=   0.0s\n",
            "[CV 2/5] END ..C=10000, gamma=0.001, kernel=rbf;, score=0.970 total time=   0.0s\n",
            "[CV 3/5] END ..C=10000, gamma=0.001, kernel=rbf;, score=0.945 total time=   0.0s\n",
            "[CV 4/5] END ..C=10000, gamma=0.001, kernel=rbf;, score=0.964 total time=   0.0s\n",
            "[CV 5/5] END ..C=10000, gamma=0.001, kernel=rbf;, score=0.976 total time=   0.0s\n",
            "[CV 1/5] END .C=10000, gamma=0.0001, kernel=rbf;, score=0.939 total time=   0.0s\n",
            "[CV 2/5] END .C=10000, gamma=0.0001, kernel=rbf;, score=0.964 total time=   0.0s\n",
            "[CV 3/5] END .C=10000, gamma=0.0001, kernel=rbf;, score=0.939 total time=   0.0s\n",
            "[CV 4/5] END .C=10000, gamma=0.0001, kernel=rbf;, score=0.970 total time=   0.0s\n",
            "[CV 5/5] END .C=10000, gamma=0.0001, kernel=rbf;, score=0.976 total time=   0.0s\n",
            "[CV 1/5] END .C=10000, gamma=0.0001, kernel=rbf;, score=0.939 total time=   0.0s\n",
            "[CV 2/5] END .C=10000, gamma=0.0001, kernel=rbf;, score=0.964 total time=   0.0s\n",
            "[CV 3/5] END .C=10000, gamma=0.0001, kernel=rbf;, score=0.939 total time=   0.0s\n",
            "[CV 4/5] END .C=10000, gamma=0.0001, kernel=rbf;, score=0.970 total time=   0.0s\n",
            "[CV 5/5] END .C=10000, gamma=0.0001, kernel=rbf;, score=0.976 total time=   0.0s\n"
          ]
        },
        {
          "output_type": "execute_result",
          "data": {
            "text/plain": [
              "GridSearchCV(estimator=SVC(),\n",
              "             param_grid={'C': [0.1, 1, 10, 100, 1000, 10000],\n",
              "                         'gamma': [1, 0.1, 0.01, 0.001, 0.0001, 0.0001],\n",
              "                         'kernel': ['rbf']},\n",
              "             verbose=3)"
            ]
          },
          "metadata": {},
          "execution_count": 420
        }
      ]
    },
    {
      "cell_type": "code",
      "metadata": {
        "colab": {
          "base_uri": "https://localhost:8080/"
        },
        "id": "V8umHOSMO85H",
        "outputId": "7a60c312-e290-4df2-f6bc-802f3c402139"
      },
      "source": [
        "grid.best_params_"
      ],
      "execution_count": 439,
      "outputs": [
        {
          "output_type": "execute_result",
          "data": {
            "text/plain": [
              "{'C': 1000, 'gamma': 0.01, 'kernel': 'rbf'}"
            ]
          },
          "metadata": {},
          "execution_count": 439
        }
      ]
    },
    {
      "cell_type": "code",
      "metadata": {
        "colab": {
          "base_uri": "https://localhost:8080/"
        },
        "id": "avq6cKvvO_1r",
        "outputId": "7f21380b-82b6-46d8-ec14-ed2978c4c922"
      },
      "source": [
        "predictions = grid.predict(X_test)\n",
        "print(\"Accuracy:\", accuracy_score(y_test, predictions))\n",
        "print(\"Precision:\", precision_score(y_test, predictions))\n",
        "print(\"Recall:\", recall_score(y_test, predictions))\n",
        "print(\"F1-Score:\", f1_score(y_test, predictions ),\"\\n\")\n",
        "print(classification_report(y_test, predictions))\n",
        "\n",
        "p = y_test\n",
        "p=pd.DataFrame(p)\n",
        "p1 = list(p['Legendary'])\n",
        "num = p.index\n",
        "\n",
        "for i in range(len(y_test)):\n",
        "    if p1[i] != predictions[i]:\n",
        "      print(p1[i], predictions[i])\n",
        "      if num[i] in df['Number']:\n",
        "        print(df[df['Number']==num[i]].Name)"
      ],
      "execution_count": 440,
      "outputs": [
        {
          "output_type": "stream",
          "name": "stdout",
          "text": [
            "Accuracy: 0.9806763285024155\n",
            "Precision: 0.9230769230769231\n",
            "Recall: 0.9230769230769231\n",
            "F1-Score: 0.9230769230769231 \n",
            "\n",
            "              precision    recall  f1-score   support\n",
            "\n",
            "         0.0       0.99      0.99      0.99       181\n",
            "         1.0       0.92      0.92      0.92        26\n",
            "\n",
            "    accuracy                           0.98       207\n",
            "   macro avg       0.96      0.96      0.96       207\n",
            "weighted avg       0.98      0.98      0.98       207\n",
            "\n",
            "1.0 0.0\n",
            "933    Blacephalon\n",
            "Name: Name, dtype: object\n",
            "0.0 1.0\n",
            "535    Drapion\n",
            "Name: Name, dtype: object\n",
            "1.0 0.0\n",
            "831             Zygarde\n",
            "832         Zygarde 10%\n",
            "833    Zygarde Complete\n",
            "Name: Name, dtype: object\n",
            "0.0 1.0\n",
            "298         Tyranitar\n",
            "299    Mega Tyranitar\n",
            "Name: Name, dtype: object\n"
          ]
        }
      ]
    }
  ]
}